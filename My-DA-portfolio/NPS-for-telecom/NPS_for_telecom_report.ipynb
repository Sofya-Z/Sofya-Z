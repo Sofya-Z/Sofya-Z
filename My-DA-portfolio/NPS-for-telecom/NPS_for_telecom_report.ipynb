{
 "cells": [
  {
   "cell_type": "markdown",
   "id": "7781c61d",
   "metadata": {
    "toc": true
   },
   "source": [
    "<h1>Table of Contents<span class=\"tocSkip\"></span></h1>\n",
    "<div class=\"toc\"><ul class=\"toc-item\"><li><span><a href=\"#Выгрузка-данных\" data-toc-modified-id=\"Выгрузка-данных-1\"><span class=\"toc-item-num\">1&nbsp;&nbsp;</span>Выгрузка данных</a></span></li><li><span><a href=\"#Результаты-исследования\" data-toc-modified-id=\"Результаты-исследования-2\"><span class=\"toc-item-num\">2&nbsp;&nbsp;</span>Результаты исследования</a></span></li></ul></div>"
   ]
  },
  {
   "cell_type": "markdown",
   "id": "b04356ce",
   "metadata": {},
   "source": [
    "# Анализ NPS для телекоммуникационной компании"
   ]
  },
  {
   "cell_type": "markdown",
   "id": "12e01409",
   "metadata": {},
   "source": [
    "## Выгрузка данных"
   ]
  },
  {
   "cell_type": "markdown",
   "id": "cb33a77c",
   "metadata": {},
   "source": [
    "Загрузим необходимые библиотеки"
   ]
  },
  {
   "cell_type": "code",
   "execution_count": 1,
   "id": "6e00945a",
   "metadata": {},
   "outputs": [],
   "source": [
    "import pandas as pd\n",
    "from sqlalchemy import create_engine"
   ]
  },
  {
   "cell_type": "code",
   "execution_count": 2,
   "id": "33db1dd8",
   "metadata": {},
   "outputs": [],
   "source": [
    "# Сформируем обращение к БД\n",
    "path_to_db = 'telecomm_csi.db' # путь к файлу\n",
    "engine = create_engine(f'sqlite:///{path_to_db}', echo = False)"
   ]
  },
  {
   "cell_type": "code",
   "execution_count": 3,
   "id": "1740c328",
   "metadata": {},
   "outputs": [],
   "source": [
    "# SQL запрос\n",
    "\n",
    "query = \"\"\"\n",
    "SELECT u.user_id AS user_id,\n",
    "        u.lt_day AS lt_day,\n",
    "        u.age AS age,\n",
    "        CASE\n",
    "\t\t\tWHEN u.gender_segment = 1 THEN 'men'\n",
    "\t\t\tWHEN u.gender_segment = 0 THEN 'women'\n",
    "\t\tEND AS gender_segment,\n",
    "        u.cpe_type_name AS cpe_type_name,\n",
    "        u.nps_score AS nps_score,\n",
    "\t\tu.os_name AS os_name,\n",
    "\t\tCASE\n",
    "\t\t\tWHEN u.lt_day <= 365 THEN 'new'\n",
    "\t\t\tWHEN u.lt_day > 365 THEN 'old'\n",
    "\t\tEND AS is_new,\n",
    "\t\tCASE\n",
    "\t\t\tWHEN u.nps_score >=9 THEN 'promoters'\n",
    "\t\t\tWHEN u.nps_score >=7 THEN 'passives'\n",
    "\t\t\tELSE 'detractors'\n",
    "\t\tEND AS nps_group,\n",
    "\t\tl.country,\n",
    "\t\tl.city,\n",
    "\t\ta.title AS age_gr_id,\n",
    "\t\tlt.title AS lifetime_segment,\n",
    "\t\tt.title AS traffic_segment\n",
    "FROM user AS u\n",
    "LEFT JOIN location AS l ON u.location_id = l.location_id\n",
    "LEFT JOIN age_segment AS a ON u.age_gr_id = a.age_gr_id\n",
    "LEFT JOIN lifetime_segment AS lt ON u.lt_gr_id = lt.lt_gr_id\n",
    "LEFT JOIN traffic_segment AS t ON u.tr_gr_id = t.tr_gr_id\n",
    "WHERE u.gender_segment IS NOT NULL\n",
    "\"\"\""
   ]
  },
  {
   "cell_type": "code",
   "execution_count": 4,
   "id": "766abd01",
   "metadata": {
    "scrolled": true
   },
   "outputs": [
    {
     "data": {
      "text/html": [
       "<div>\n",
       "<style scoped>\n",
       "    .dataframe tbody tr th:only-of-type {\n",
       "        vertical-align: middle;\n",
       "    }\n",
       "\n",
       "    .dataframe tbody tr th {\n",
       "        vertical-align: top;\n",
       "    }\n",
       "\n",
       "    .dataframe thead th {\n",
       "        text-align: right;\n",
       "    }\n",
       "</style>\n",
       "<table border=\"1\" class=\"dataframe\">\n",
       "  <thead>\n",
       "    <tr style=\"text-align: right;\">\n",
       "      <th></th>\n",
       "      <th>user_id</th>\n",
       "      <th>lt_day</th>\n",
       "      <th>age</th>\n",
       "      <th>gender_segment</th>\n",
       "      <th>cpe_type_name</th>\n",
       "      <th>nps_score</th>\n",
       "      <th>os_name</th>\n",
       "      <th>is_new</th>\n",
       "      <th>nps_group</th>\n",
       "      <th>country</th>\n",
       "      <th>city</th>\n",
       "      <th>age_gr_id</th>\n",
       "      <th>lifetime_segment</th>\n",
       "      <th>traffic_segment</th>\n",
       "    </tr>\n",
       "  </thead>\n",
       "  <tbody>\n",
       "    <tr>\n",
       "      <th>0</th>\n",
       "      <td>A001A2</td>\n",
       "      <td>2320</td>\n",
       "      <td>45.0</td>\n",
       "      <td>men</td>\n",
       "      <td>SMARTPHONE</td>\n",
       "      <td>10</td>\n",
       "      <td>ANDROID</td>\n",
       "      <td>old</td>\n",
       "      <td>promoters</td>\n",
       "      <td>Россия</td>\n",
       "      <td>Уфа</td>\n",
       "      <td>05 45-54</td>\n",
       "      <td>08 36+</td>\n",
       "      <td>04 1-5</td>\n",
       "    </tr>\n",
       "    <tr>\n",
       "      <th>1</th>\n",
       "      <td>A001WF</td>\n",
       "      <td>2344</td>\n",
       "      <td>53.0</td>\n",
       "      <td>women</td>\n",
       "      <td>SMARTPHONE</td>\n",
       "      <td>10</td>\n",
       "      <td>ANDROID</td>\n",
       "      <td>old</td>\n",
       "      <td>promoters</td>\n",
       "      <td>Россия</td>\n",
       "      <td>Киров</td>\n",
       "      <td>05 45-54</td>\n",
       "      <td>08 36+</td>\n",
       "      <td>04 1-5</td>\n",
       "    </tr>\n",
       "    <tr>\n",
       "      <th>2</th>\n",
       "      <td>A003Q7</td>\n",
       "      <td>467</td>\n",
       "      <td>57.0</td>\n",
       "      <td>women</td>\n",
       "      <td>SMARTPHONE</td>\n",
       "      <td>10</td>\n",
       "      <td>ANDROID</td>\n",
       "      <td>old</td>\n",
       "      <td>promoters</td>\n",
       "      <td>Россия</td>\n",
       "      <td>Москва</td>\n",
       "      <td>06 55-64</td>\n",
       "      <td>06 13-24</td>\n",
       "      <td>08 20-25</td>\n",
       "    </tr>\n",
       "    <tr>\n",
       "      <th>3</th>\n",
       "      <td>A004TB</td>\n",
       "      <td>4190</td>\n",
       "      <td>44.0</td>\n",
       "      <td>men</td>\n",
       "      <td>SMARTPHONE</td>\n",
       "      <td>10</td>\n",
       "      <td>IOS</td>\n",
       "      <td>old</td>\n",
       "      <td>promoters</td>\n",
       "      <td>Россия</td>\n",
       "      <td>РостовнаДону</td>\n",
       "      <td>04 35-44</td>\n",
       "      <td>08 36+</td>\n",
       "      <td>03 0.1-1</td>\n",
       "    </tr>\n",
       "    <tr>\n",
       "      <th>4</th>\n",
       "      <td>A004XT</td>\n",
       "      <td>1163</td>\n",
       "      <td>24.0</td>\n",
       "      <td>women</td>\n",
       "      <td>SMARTPHONE</td>\n",
       "      <td>10</td>\n",
       "      <td>ANDROID</td>\n",
       "      <td>old</td>\n",
       "      <td>promoters</td>\n",
       "      <td>Россия</td>\n",
       "      <td>Рязань</td>\n",
       "      <td>02 16-24</td>\n",
       "      <td>08 36+</td>\n",
       "      <td>05 5-10</td>\n",
       "    </tr>\n",
       "  </tbody>\n",
       "</table>\n",
       "</div>"
      ],
      "text/plain": [
       "  user_id  lt_day   age gender_segment cpe_type_name  nps_score  os_name  \\\n",
       "0  A001A2    2320  45.0            men    SMARTPHONE         10  ANDROID   \n",
       "1  A001WF    2344  53.0          women    SMARTPHONE         10  ANDROID   \n",
       "2  A003Q7     467  57.0          women    SMARTPHONE         10  ANDROID   \n",
       "3  A004TB    4190  44.0            men    SMARTPHONE         10      IOS   \n",
       "4  A004XT    1163  24.0          women    SMARTPHONE         10  ANDROID   \n",
       "\n",
       "  is_new  nps_group country          city age_gr_id lifetime_segment  \\\n",
       "0    old  promoters  Россия           Уфа  05 45-54           08 36+   \n",
       "1    old  promoters  Россия         Киров  05 45-54           08 36+   \n",
       "2    old  promoters  Россия        Москва  06 55-64         06 13-24   \n",
       "3    old  promoters  Россия  РостовнаДону  04 35-44           08 36+   \n",
       "4    old  promoters  Россия        Рязань  02 16-24           08 36+   \n",
       "\n",
       "  traffic_segment  \n",
       "0          04 1-5  \n",
       "1          04 1-5  \n",
       "2        08 20-25  \n",
       "3        03 0.1-1  \n",
       "4         05 5-10  "
      ]
     },
     "execution_count": 4,
     "metadata": {},
     "output_type": "execute_result"
    }
   ],
   "source": [
    "# Выгружаем данные в датасет df\n",
    "df = pd.read_sql(query, engine)\n",
    "df.head()"
   ]
  },
  {
   "cell_type": "code",
   "execution_count": 5,
   "id": "852f0798",
   "metadata": {},
   "outputs": [],
   "source": [
    "# Сохраняем таблицу локально для Tableau\n",
    "df.to_csv('dash_nps_telecom.csv', sep='\\t')"
   ]
  },
  {
   "cell_type": "markdown",
   "id": "08fbf729",
   "metadata": {},
   "source": [
    "## Результаты исследования"
   ]
  },
  {
   "cell_type": "markdown",
   "id": "76f5b324",
   "metadata": {},
   "source": [
    "**Дашборд**\n",
    "\n",
    "\n",
    "[Структура данных опроса](https://public.tableau.com/app/profile/sofya4724/viz/Datastructure_16572198908430/datastructure?publish=yes)\n",
    "\n",
    "[Результаты изучения NPS](https://public.tableau.com/app/profile/sofya4724/viz/NPSdynamics/dynamicsNPS?publish=yes)"
   ]
  },
  {
   "cell_type": "markdown",
   "id": "f8479f28",
   "metadata": {},
   "source": [
    "**Краткий отчет по результатам работы**\n",
    "\n",
    "https://disk.yandex.ru/i/fvTZrF0sHQMMKg"
   ]
  }
 ],
 "metadata": {
  "ExecuteTimeLog": [
   {
    "duration": 590,
    "start_time": "2022-07-10T06:07:54.758Z"
   },
   {
    "duration": 11,
    "start_time": "2022-07-10T06:07:55.350Z"
   },
   {
    "duration": 10,
    "start_time": "2022-07-10T06:07:55.363Z"
   },
   {
    "duration": 1169,
    "start_time": "2022-07-10T06:07:55.376Z"
   },
   {
    "duration": 0,
    "start_time": "2022-07-10T06:07:56.547Z"
   },
   {
    "duration": 562,
    "start_time": "2022-07-11T11:48:33.611Z"
   },
   {
    "duration": 10,
    "start_time": "2022-07-11T11:48:34.175Z"
   },
   {
    "duration": 4,
    "start_time": "2022-07-11T11:48:34.186Z"
   },
   {
    "duration": 5935,
    "start_time": "2022-07-11T11:48:34.198Z"
   },
   {
    "duration": 4480,
    "start_time": "2022-07-11T11:48:40.135Z"
   },
   {
    "duration": 571,
    "start_time": "2022-07-11T14:18:02.555Z"
   },
   {
    "duration": 20,
    "start_time": "2022-07-11T14:18:03.128Z"
   },
   {
    "duration": 3,
    "start_time": "2022-07-11T14:18:03.149Z"
   },
   {
    "duration": 5352,
    "start_time": "2022-07-11T14:18:03.154Z"
   },
   {
    "duration": 5753,
    "start_time": "2022-07-11T14:18:08.508Z"
   }
  ],
  "kernelspec": {
   "display_name": "Python 3 (ipykernel)",
   "language": "python",
   "name": "python3"
  },
  "language_info": {
   "codemirror_mode": {
    "name": "ipython",
    "version": 3
   },
   "file_extension": ".py",
   "mimetype": "text/x-python",
   "name": "python",
   "nbconvert_exporter": "python",
   "pygments_lexer": "ipython3",
   "version": "3.9.7"
  },
  "toc": {
   "base_numbering": 1,
   "nav_menu": {},
   "number_sections": true,
   "sideBar": true,
   "skip_h1_title": true,
   "title_cell": "Table of Contents",
   "title_sidebar": "Contents",
   "toc_cell": true,
   "toc_position": {},
   "toc_section_display": true,
   "toc_window_display": false
  }
 },
 "nbformat": 4,
 "nbformat_minor": 5
}
