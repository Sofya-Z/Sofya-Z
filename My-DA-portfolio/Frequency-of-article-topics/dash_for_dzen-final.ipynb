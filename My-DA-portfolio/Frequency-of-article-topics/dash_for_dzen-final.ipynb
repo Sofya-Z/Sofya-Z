{
 "cells": [
  {
   "cell_type": "markdown",
   "id": "861b2d62",
   "metadata": {
    "toc": true
   },
   "source": [
    "<h1>Table of Contents<span class=\"tocSkip\"></span></h1>\n",
    "<div class=\"toc\"><ul class=\"toc-item\"><li><span><a href=\"#Загрузка-агрегированных-данных\" data-toc-modified-id=\"Загрузка-агрегированных-данных-1\"><span class=\"toc-item-num\">1&nbsp;&nbsp;</span>Загрузка агрегированных данных</a></span></li><li><span><a href=\"#Проведем-небольшое-исследование-данных\" data-toc-modified-id=\"Проведем-небольшое-исследование-данных-2\"><span class=\"toc-item-num\">2&nbsp;&nbsp;</span>Проведем небольшое исследование данных</a></span><ul class=\"toc-item\"><li><span><a href=\"#Изучим-распределение-значений-в-dt-и-visits\" data-toc-modified-id=\"Изучим-распределение-значений-в-dt-и-visits-2.1\"><span class=\"toc-item-num\">2.1&nbsp;&nbsp;</span>Изучим распределение значений в dt и visits</a></span></li></ul></li><li><span><a href=\"#Вывод\" data-toc-modified-id=\"Вывод-3\"><span class=\"toc-item-num\">3&nbsp;&nbsp;</span>Вывод</a></span></li><li><span><a href=\"#Сохранение-таблицы\" data-toc-modified-id=\"Сохранение-таблицы-4\"><span class=\"toc-item-num\">4&nbsp;&nbsp;</span>Сохранение таблицы</a></span></li><li><span><a href=\"#Анализ-популярности-тем\" data-toc-modified-id=\"Анализ-популярности-тем-5\"><span class=\"toc-item-num\">5&nbsp;&nbsp;</span>Анализ популярности тем</a></span></li></ul></div>"
   ]
  },
  {
   "cell_type": "markdown",
   "id": "a4c5564e",
   "metadata": {},
   "source": [
    "## Загрузка агрегированных данных"
   ]
  },
  {
   "cell_type": "code",
   "execution_count": 1,
   "id": "cb5746f6",
   "metadata": {},
   "outputs": [],
   "source": [
    "# импортируем библиотеки\n",
    "import pandas as pd\n",
    "from sqlalchemy import create_engine\n",
    "import matplotlib.pyplot as plt"
   ]
  },
  {
   "cell_type": "code",
   "execution_count": 2,
   "id": "ae570ac1",
   "metadata": {},
   "outputs": [],
   "source": [
    "# Задаём параметры подключения к БД\n",
    "db_config = {'user': 'praktikum_student', # имя пользователя\n",
    "            'pwd': 'Sdf4$2;d-d30pp', # пароль\n",
    "            'host': 'rc1b-wcoijxj3yxfsf3fs.mdb.yandexcloud.net',\n",
    "            'port': 6432, # порт подключения\n",
    "            'db': 'data-analyst-zen-project-db'} # название базы данных\n",
    "\n",
    "# Формируем строку соединения с БД\n",
    "connection_string = 'postgresql://{}:{}@{}:{}/{}'.format(db_config['user'],\n",
    "                                                db_config['pwd'],\n",
    "                                                db_config['host'],\n",
    "                                                db_config['port'],\n",
    "                                                db_config['db'])\n",
    "\n",
    "# Подключаемся к БД\n",
    "engine = create_engine(connection_string)"
   ]
  },
  {
   "cell_type": "code",
   "execution_count": 3,
   "id": "4a78665f",
   "metadata": {
    "scrolled": false
   },
   "outputs": [
    {
     "name": "stdout",
     "output_type": "stream",
     "text": [
      "   record_id item_topic source_topic age_segment                  dt  visits\n",
      "0    1040597     Деньги         Авто       18-25 2019-09-24 18:32:00       3\n",
      "1    1040598     Деньги         Авто       18-25 2019-09-24 18:35:00       1\n",
      "2    1040599     Деньги         Авто       18-25 2019-09-24 18:54:00       4\n",
      "3    1040600     Деньги         Авто       18-25 2019-09-24 18:55:00      17\n",
      "4    1040601     Деньги         Авто       18-25 2019-09-24 18:56:00      27\n"
     ]
    }
   ],
   "source": [
    "# Формируем sql-запрос\n",
    "query = ''' SELECT *\n",
    "            FROM dash_visits\n",
    "        '''\n",
    "\n",
    "# Выполняем запрос и сохраняем результат\n",
    "# выполнения в DataFrame.\n",
    "# Sqlalchemy автоматически установит названия колонок\n",
    "# такими же, как у таблицы в БД. Нам останется только\n",
    "# указать индексную колонку с помощью index_col.\n",
    "data_raw = pd.io.sql.read_sql(query, con = engine)\n",
    "\n",
    "print(data_raw.head(5))"
   ]
  },
  {
   "cell_type": "markdown",
   "id": "9ac3be0f",
   "metadata": {},
   "source": [
    "**Данные загружены!**"
   ]
  },
  {
   "cell_type": "markdown",
   "id": "125eca7e",
   "metadata": {},
   "source": [
    "## Проведем небольшое исследование данных"
   ]
  },
  {
   "cell_type": "code",
   "execution_count": 4,
   "id": "16bc9549",
   "metadata": {
    "scrolled": false
   },
   "outputs": [
    {
     "name": "stdout",
     "output_type": "stream",
     "text": [
      "<class 'pandas.core.frame.DataFrame'>\n",
      "RangeIndex: 30745 entries, 0 to 30744\n",
      "Data columns (total 6 columns):\n",
      " #   Column        Non-Null Count  Dtype         \n",
      "---  ------        --------------  -----         \n",
      " 0   record_id     30745 non-null  int64         \n",
      " 1   item_topic    30745 non-null  object        \n",
      " 2   source_topic  30745 non-null  object        \n",
      " 3   age_segment   30745 non-null  object        \n",
      " 4   dt            30745 non-null  datetime64[ns]\n",
      " 5   visits        30745 non-null  int64         \n",
      "dtypes: datetime64[ns](1), int64(2), object(3)\n",
      "memory usage: 1.4+ MB\n"
     ]
    }
   ],
   "source": [
    "data_raw.info()"
   ]
  },
  {
   "cell_type": "markdown",
   "id": "067bff0b",
   "metadata": {},
   "source": [
    "**5 колонок и 30745 строк с данными и посещении карточек**"
   ]
  },
  {
   "cell_type": "markdown",
   "id": "7bccf059",
   "metadata": {},
   "source": [
    "Изучим скрытые дубликаты категориальных колонок"
   ]
  },
  {
   "cell_type": "code",
   "execution_count": 5,
   "id": "6a7d8e40",
   "metadata": {
    "scrolled": true
   },
   "outputs": [
    {
     "data": {
      "text/plain": [
       "item_topic\n",
       "Отношения             1536\n",
       "Интересные факты      1535\n",
       "Наука                 1505\n",
       "Подборки              1456\n",
       "Полезные советы       1424\n",
       "Общество              1422\n",
       "Россия                1385\n",
       "История               1363\n",
       "Семья                 1287\n",
       "Путешествия           1247\n",
       "Деньги                1234\n",
       "Женщины               1230\n",
       "Дети                  1229\n",
       "Туризм                1206\n",
       "Здоровье              1203\n",
       "Красота               1193\n",
       "Культура              1160\n",
       "Юмор                  1129\n",
       "Искусство             1119\n",
       "Рассказы              1109\n",
       "Психология            1056\n",
       "Скандалы              1023\n",
       "Знаменитости           976\n",
       "Женская психология     914\n",
       "Шоу                    804\n",
       "dtype: int64"
      ]
     },
     "metadata": {},
     "output_type": "display_data"
    },
    {
     "data": {
      "text/plain": [
       "source_topic\n",
       "Семейные отношения    1822\n",
       "Россия                1687\n",
       "Знаменитости          1650\n",
       "Полезные советы       1578\n",
       "Путешествия           1563\n",
       "Кино                  1505\n",
       "Дети                  1459\n",
       "История               1437\n",
       "Семья                 1405\n",
       "Одежда                1379\n",
       "Здоровье              1243\n",
       "Искусство             1228\n",
       "Авто                  1077\n",
       "Психология            1055\n",
       "Сад и дача            1036\n",
       "Политика              1024\n",
       "Спорт                 1007\n",
       "Сделай сам             995\n",
       "Ремонт                 985\n",
       "Деньги                 973\n",
       "Еда                    912\n",
       "Интерьеры              809\n",
       "Строительство          758\n",
       "Музыка                 750\n",
       "Технологии             741\n",
       "Финансы                667\n",
       "dtype: int64"
      ]
     },
     "metadata": {},
     "output_type": "display_data"
    },
    {
     "data": {
      "text/plain": [
       "age_segment\n",
       "18-25    7056\n",
       "26-30    5875\n",
       "31-35    5552\n",
       "36-40    5105\n",
       "41-45    3903\n",
       "45+      3254\n",
       "dtype: int64"
      ]
     },
     "metadata": {},
     "output_type": "display_data"
    }
   ],
   "source": [
    "for col in ['item_topic', 'source_topic', 'age_segment']:\n",
    "    display(data_raw.value_counts(col))"
   ]
  },
  {
   "cell_type": "code",
   "execution_count": 6,
   "id": "0a4b5767",
   "metadata": {
    "scrolled": true
   },
   "outputs": [
    {
     "name": "stdout",
     "output_type": "stream",
     "text": [
      "Разных тем в item_topic : 25\n",
      "AxesSubplot(0.125,0.125;0.775x0.755)\n"
     ]
    },
    {
     "data": {
      "image/png": "[encoded data removed]",
      "text/plain": [
       "<Figure size 432x288 with 1 Axes>"
      ]
     },
     "metadata": {
      "needs_background": "light"
     },
     "output_type": "display_data"
    },
    {
     "name": "stdout",
     "output_type": "stream",
     "text": [
      "Разных тем в source_topic : 26\n",
      "AxesSubplot(0.125,0.125;0.775x0.755)\n"
     ]
    },
    {
     "data": {
      "image/png": "[encoded data removed]",
      "text/plain": [
       "<Figure size 432x288 with 1 Axes>"
      ]
     },
     "metadata": {
      "needs_background": "light"
     },
     "output_type": "display_data"
    }
   ],
   "source": [
    "print('Разных тем в', 'item_topic', ':', len(data_raw.value_counts('item_topic')))\n",
    "print(data_raw.value_counts('item_topic').plot())\n",
    "plt.xticks(rotation=-45)\n",
    "plt.title('Количество карточек по темам статьи')\n",
    "plt.xlabel('Темы статьи')\n",
    "plt.ylabel('Количество карточек')\n",
    "\n",
    "plt.show()\n",
    "    \n",
    "print('Разных тем в', 'source_topic', ':', len(data_raw.value_counts('source_topic')))\n",
    "print(data_raw.value_counts('source_topic').plot())\n",
    "plt.xticks(rotation=-45)\n",
    "plt.title('Количество карточек по темам источника')\n",
    "plt.xlabel('Темы статьи')\n",
    "plt.ylabel('Количество карточек')\n",
    "\n",
    "plt.show()"
   ]
  },
  {
   "cell_type": "markdown",
   "id": "bcf9a8dc",
   "metadata": {},
   "source": [
    "В данных скрытых дубликатов не обнаружено.\n",
    "\n",
    "**Названия тем карточек и источников пересекаются, но не совпадают**\n",
    "\n",
    "**Всего 25 тем карточек и 26 тем источников**"
   ]
  },
  {
   "cell_type": "code",
   "execution_count": 7,
   "id": "9b52c958",
   "metadata": {
    "scrolled": true
   },
   "outputs": [
    {
     "data": {
      "text/plain": [
       "30745"
      ]
     },
     "execution_count": 7,
     "metadata": {},
     "output_type": "execute_result"
    }
   ],
   "source": [
    "len(data_raw['record_id'].unique())"
   ]
  },
  {
   "cell_type": "markdown",
   "id": "12460349",
   "metadata": {},
   "source": [
    "**Число уникальных record_id совпадает с размером таблицы - повторов в id нет**"
   ]
  },
  {
   "cell_type": "markdown",
   "id": "f3b53f3d",
   "metadata": {},
   "source": [
    "### Изучим распределение значений в dt и visits"
   ]
  },
  {
   "cell_type": "code",
   "execution_count": 8,
   "id": "56943a4d",
   "metadata": {},
   "outputs": [],
   "source": [
    "data_raw['date'] = pd.to_datetime(data_raw['dt']).dt.date"
   ]
  },
  {
   "cell_type": "code",
   "execution_count": 9,
   "id": "c63b4244",
   "metadata": {
    "scrolled": true
   },
   "outputs": [
    {
     "data": {
      "text/plain": [
       "array([datetime.date(2019, 9, 24)], dtype=object)"
      ]
     },
     "execution_count": 9,
     "metadata": {},
     "output_type": "execute_result"
    }
   ],
   "source": [
    "data_raw['date'].unique()"
   ]
  },
  {
   "cell_type": "markdown",
   "id": "72546dd4",
   "metadata": {},
   "source": [
    "В датафрейме данные только за один день - 24 сентября 2019 года"
   ]
  },
  {
   "cell_type": "code",
   "execution_count": 10,
   "id": "b5f924b2",
   "metadata": {
    "scrolled": true
   },
   "outputs": [
    {
     "data": {
      "image/png": "[encoded data removed]",
      "text/plain": [
       "<Figure size 432x288 with 1 Axes>"
      ]
     },
     "metadata": {
      "needs_background": "light"
     },
     "output_type": "display_data"
    }
   ],
   "source": [
    "data_raw['dt'].hist(bins=50)\n",
    "plt.title('Распределение активности просмотров во времени')\n",
    "plt.xlabel('Время активности')\n",
    "plt.ylabel('Количество просмотров')\n",
    "plt.show()"
   ]
  },
  {
   "cell_type": "markdown",
   "id": "06fdacad",
   "metadata": {},
   "source": [
    "**В датафрейме данные только за два небольших периода времени вечером 24 сентября 2019 года**"
   ]
  },
  {
   "cell_type": "markdown",
   "id": "4f9ec1df",
   "metadata": {},
   "source": [
    "Изучим крайние значения распределения `visits`"
   ]
  },
  {
   "cell_type": "code",
   "execution_count": 11,
   "id": "9ae969f5",
   "metadata": {},
   "outputs": [
    {
     "data": {
      "text/html": [
       "<div>\n",
       "<style scoped>\n",
       "    .dataframe tbody tr th:only-of-type {\n",
       "        vertical-align: middle;\n",
       "    }\n",
       "\n",
       "    .dataframe tbody tr th {\n",
       "        vertical-align: top;\n",
       "    }\n",
       "\n",
       "    .dataframe thead th {\n",
       "        text-align: right;\n",
       "    }\n",
       "</style>\n",
       "<table border=\"1\" class=\"dataframe\">\n",
       "  <thead>\n",
       "    <tr style=\"text-align: right;\">\n",
       "      <th></th>\n",
       "      <th>record_id</th>\n",
       "      <th>item_topic</th>\n",
       "      <th>source_topic</th>\n",
       "      <th>age_segment</th>\n",
       "      <th>dt</th>\n",
       "      <th>visits</th>\n",
       "      <th>date</th>\n",
       "    </tr>\n",
       "  </thead>\n",
       "  <tbody>\n",
       "  </tbody>\n",
       "</table>\n",
       "</div>"
      ],
      "text/plain": [
       "Empty DataFrame\n",
       "Columns: [record_id, item_topic, source_topic, age_segment, dt, visits, date]\n",
       "Index: []"
      ]
     },
     "execution_count": 11,
     "metadata": {},
     "output_type": "execute_result"
    }
   ],
   "source": [
    "data_raw.query('visits == 0')"
   ]
  },
  {
   "cell_type": "markdown",
   "id": "4d73280b",
   "metadata": {},
   "source": [
    "Нет нулевых значений"
   ]
  },
  {
   "cell_type": "code",
   "execution_count": 12,
   "id": "a14bbdea",
   "metadata": {
    "scrolled": true
   },
   "outputs": [
    {
     "name": "stdout",
     "output_type": "stream",
     "text": [
      "Число карточек с только 1 визитом: 8999\n",
      "Процент карточек с только одним визитом: 29.27\n"
     ]
    }
   ],
   "source": [
    "print('Число карточек с только 1 визитом:',\n",
    "      data_raw.query('visits == 1')['record_id'].count())\n",
    "print('Процент карточек с только одним визитом:',\n",
    "     round(\n",
    "         data_raw.query('visits == 1')['record_id'].count()/\n",
    "     len(data_raw)*100, 2))"
   ]
  },
  {
   "cell_type": "markdown",
   "id": "602de26e",
   "metadata": {},
   "source": [
    "**Почти 30% карточек посетили только один раз**"
   ]
  },
  {
   "cell_type": "code",
   "execution_count": 13,
   "id": "b82a3a23",
   "metadata": {},
   "outputs": [
    {
     "name": "stdout",
     "output_type": "stream",
     "text": [
      "Число карточек с более 50 визитами: 1167\n",
      "Процент карточек с более 50 визитами: 3.8\n"
     ]
    },
    {
     "data": {
      "image/png": "[encoded data removed]",
      "text/plain": [
       "<Figure size 432x288 with 1 Axes>"
      ]
     },
     "metadata": {
      "needs_background": "light"
     },
     "output_type": "display_data"
    }
   ],
   "source": [
    "print('Число карточек с более 50 визитами:',\n",
    "      data_raw.query('visits > 50')['record_id'].count())\n",
    "print('Процент карточек с более 50 визитами:',\n",
    "     round(\n",
    "         data_raw.query('visits > 50')['record_id'].count()/\n",
    "     len(data_raw)*100, 2))\n",
    "data_raw.query('visits > 50')['visits'].hist(bins=20)\n",
    "plt.title('Частота встречаемости карточек с количеством просмотром > 50')\n",
    "plt.xlabel('Количество просмотров')\n",
    "plt.ylabel('Количество карточек')\n",
    "plt.show()"
   ]
  },
  {
   "cell_type": "code",
   "execution_count": 14,
   "id": "9899695c",
   "metadata": {
    "scrolled": false
   },
   "outputs": [
    {
     "name": "stdout",
     "output_type": "stream",
     "text": [
      "Всего карточек с числом визитов больше 250: 14\n"
     ]
    },
    {
     "data": {
      "text/html": [
       "<div>\n",
       "<style scoped>\n",
       "    .dataframe tbody tr th:only-of-type {\n",
       "        vertical-align: middle;\n",
       "    }\n",
       "\n",
       "    .dataframe tbody tr th {\n",
       "        vertical-align: top;\n",
       "    }\n",
       "\n",
       "    .dataframe thead th {\n",
       "        text-align: right;\n",
       "    }\n",
       "</style>\n",
       "<table border=\"1\" class=\"dataframe\">\n",
       "  <thead>\n",
       "    <tr style=\"text-align: right;\">\n",
       "      <th></th>\n",
       "      <th>record_id</th>\n",
       "      <th>item_topic</th>\n",
       "      <th>source_topic</th>\n",
       "      <th>age_segment</th>\n",
       "      <th>dt</th>\n",
       "      <th>visits</th>\n",
       "      <th>date</th>\n",
       "    </tr>\n",
       "  </thead>\n",
       "  <tbody>\n",
       "    <tr>\n",
       "      <th>13684</th>\n",
       "      <td>1054281</td>\n",
       "      <td>Наука</td>\n",
       "      <td>Кино</td>\n",
       "      <td>18-25</td>\n",
       "      <td>2019-09-24 18:57:00</td>\n",
       "      <td>264</td>\n",
       "      <td>2019-09-24</td>\n",
       "    </tr>\n",
       "    <tr>\n",
       "      <th>13685</th>\n",
       "      <td>1054282</td>\n",
       "      <td>Наука</td>\n",
       "      <td>Кино</td>\n",
       "      <td>18-25</td>\n",
       "      <td>2019-09-24 18:58:00</td>\n",
       "      <td>276</td>\n",
       "      <td>2019-09-24</td>\n",
       "    </tr>\n",
       "    <tr>\n",
       "      <th>15617</th>\n",
       "      <td>1056214</td>\n",
       "      <td>Общество</td>\n",
       "      <td>Россия</td>\n",
       "      <td>18-25</td>\n",
       "      <td>2019-09-24 18:56:00</td>\n",
       "      <td>266</td>\n",
       "      <td>2019-09-24</td>\n",
       "    </tr>\n",
       "    <tr>\n",
       "      <th>15618</th>\n",
       "      <td>1056215</td>\n",
       "      <td>Общество</td>\n",
       "      <td>Россия</td>\n",
       "      <td>18-25</td>\n",
       "      <td>2019-09-24 18:57:00</td>\n",
       "      <td>331</td>\n",
       "      <td>2019-09-24</td>\n",
       "    </tr>\n",
       "    <tr>\n",
       "      <th>15619</th>\n",
       "      <td>1056216</td>\n",
       "      <td>Общество</td>\n",
       "      <td>Россия</td>\n",
       "      <td>18-25</td>\n",
       "      <td>2019-09-24 18:58:00</td>\n",
       "      <td>291</td>\n",
       "      <td>2019-09-24</td>\n",
       "    </tr>\n",
       "    <tr>\n",
       "      <th>15620</th>\n",
       "      <td>1056217</td>\n",
       "      <td>Общество</td>\n",
       "      <td>Россия</td>\n",
       "      <td>18-25</td>\n",
       "      <td>2019-09-24 18:59:00</td>\n",
       "      <td>324</td>\n",
       "      <td>2019-09-24</td>\n",
       "    </tr>\n",
       "    <tr>\n",
       "      <th>16798</th>\n",
       "      <td>1057395</td>\n",
       "      <td>Отношения</td>\n",
       "      <td>Полезные советы</td>\n",
       "      <td>18-25</td>\n",
       "      <td>2019-09-24 18:56:00</td>\n",
       "      <td>256</td>\n",
       "      <td>2019-09-24</td>\n",
       "    </tr>\n",
       "    <tr>\n",
       "      <th>16799</th>\n",
       "      <td>1057396</td>\n",
       "      <td>Отношения</td>\n",
       "      <td>Полезные советы</td>\n",
       "      <td>18-25</td>\n",
       "      <td>2019-09-24 18:57:00</td>\n",
       "      <td>297</td>\n",
       "      <td>2019-09-24</td>\n",
       "    </tr>\n",
       "    <tr>\n",
       "      <th>16800</th>\n",
       "      <td>1057397</td>\n",
       "      <td>Отношения</td>\n",
       "      <td>Полезные советы</td>\n",
       "      <td>18-25</td>\n",
       "      <td>2019-09-24 18:58:00</td>\n",
       "      <td>283</td>\n",
       "      <td>2019-09-24</td>\n",
       "    </tr>\n",
       "    <tr>\n",
       "      <th>23436</th>\n",
       "      <td>1064033</td>\n",
       "      <td>Рассказы</td>\n",
       "      <td>Путешествия</td>\n",
       "      <td>18-25</td>\n",
       "      <td>2019-09-24 18:56:00</td>\n",
       "      <td>349</td>\n",
       "      <td>2019-09-24</td>\n",
       "    </tr>\n",
       "    <tr>\n",
       "      <th>23437</th>\n",
       "      <td>1064034</td>\n",
       "      <td>Рассказы</td>\n",
       "      <td>Путешествия</td>\n",
       "      <td>18-25</td>\n",
       "      <td>2019-09-24 18:57:00</td>\n",
       "      <td>364</td>\n",
       "      <td>2019-09-24</td>\n",
       "    </tr>\n",
       "    <tr>\n",
       "      <th>23438</th>\n",
       "      <td>1064035</td>\n",
       "      <td>Рассказы</td>\n",
       "      <td>Путешествия</td>\n",
       "      <td>18-25</td>\n",
       "      <td>2019-09-24 18:58:00</td>\n",
       "      <td>371</td>\n",
       "      <td>2019-09-24</td>\n",
       "    </tr>\n",
       "    <tr>\n",
       "      <th>23439</th>\n",
       "      <td>1064036</td>\n",
       "      <td>Рассказы</td>\n",
       "      <td>Путешествия</td>\n",
       "      <td>18-25</td>\n",
       "      <td>2019-09-24 18:59:00</td>\n",
       "      <td>312</td>\n",
       "      <td>2019-09-24</td>\n",
       "    </tr>\n",
       "    <tr>\n",
       "      <th>24818</th>\n",
       "      <td>1065415</td>\n",
       "      <td>Россия</td>\n",
       "      <td>Россия</td>\n",
       "      <td>18-25</td>\n",
       "      <td>2019-09-24 18:57:00</td>\n",
       "      <td>270</td>\n",
       "      <td>2019-09-24</td>\n",
       "    </tr>\n",
       "  </tbody>\n",
       "</table>\n",
       "</div>"
      ],
      "text/plain": [
       "       record_id item_topic     source_topic age_segment                  dt  \\\n",
       "13684    1054281      Наука             Кино       18-25 2019-09-24 18:57:00   \n",
       "13685    1054282      Наука             Кино       18-25 2019-09-24 18:58:00   \n",
       "15617    1056214   Общество           Россия       18-25 2019-09-24 18:56:00   \n",
       "15618    1056215   Общество           Россия       18-25 2019-09-24 18:57:00   \n",
       "15619    1056216   Общество           Россия       18-25 2019-09-24 18:58:00   \n",
       "15620    1056217   Общество           Россия       18-25 2019-09-24 18:59:00   \n",
       "16798    1057395  Отношения  Полезные советы       18-25 2019-09-24 18:56:00   \n",
       "16799    1057396  Отношения  Полезные советы       18-25 2019-09-24 18:57:00   \n",
       "16800    1057397  Отношения  Полезные советы       18-25 2019-09-24 18:58:00   \n",
       "23436    1064033   Рассказы      Путешествия       18-25 2019-09-24 18:56:00   \n",
       "23437    1064034   Рассказы      Путешествия       18-25 2019-09-24 18:57:00   \n",
       "23438    1064035   Рассказы      Путешествия       18-25 2019-09-24 18:58:00   \n",
       "23439    1064036   Рассказы      Путешествия       18-25 2019-09-24 18:59:00   \n",
       "24818    1065415     Россия           Россия       18-25 2019-09-24 18:57:00   \n",
       "\n",
       "       visits        date  \n",
       "13684     264  2019-09-24  \n",
       "13685     276  2019-09-24  \n",
       "15617     266  2019-09-24  \n",
       "15618     331  2019-09-24  \n",
       "15619     291  2019-09-24  \n",
       "15620     324  2019-09-24  \n",
       "16798     256  2019-09-24  \n",
       "16799     297  2019-09-24  \n",
       "16800     283  2019-09-24  \n",
       "23436     349  2019-09-24  \n",
       "23437     364  2019-09-24  \n",
       "23438     371  2019-09-24  \n",
       "23439     312  2019-09-24  \n",
       "24818     270  2019-09-24  "
      ]
     },
     "execution_count": 14,
     "metadata": {},
     "output_type": "execute_result"
    }
   ],
   "source": [
    "print('Всего карточек с числом визитов больше 250:', len(data_raw.query('visits > 250')))\n",
    "data_raw.query('visits > 250')"
   ]
  },
  {
   "cell_type": "markdown",
   "id": "12fbe85d",
   "metadata": {},
   "source": [
    "**14 карточек с более чем 250 визитами.**\n",
    "\n",
    "**Карточек с более 50 визитами - 1167, это 3.8%**"
   ]
  },
  {
   "cell_type": "markdown",
   "id": "2281ffd0",
   "metadata": {},
   "source": [
    "## Вывод"
   ]
  },
  {
   "cell_type": "markdown",
   "id": "c03d18fb",
   "metadata": {},
   "source": [
    "1. 5 колонок и 30745 строк с данными о посещении карточек\n",
    "2. Названия тем карточек и источников пересекаются, но не совпадают. Всего 25 тем карточек и 26 тем источников\n",
    "3. Число уникальных record_id совпадает с размером таблицы - повторов в id нет\n",
    "\n",
    "\n",
    "4. В датафрейме данные только за два небольших периода времени вечером 24 сентября 2019 года\n",
    "\n",
    "\n",
    "5. Почти 30% карточек посетили только один раз\n",
    "6. 14 карточек с более чем 250 визитами. Карточек с более 50 визитами - 1167, это 3.8%"
   ]
  },
  {
   "cell_type": "markdown",
   "id": "ec09d620",
   "metadata": {},
   "source": [
    "## Сохранение таблицы"
   ]
  },
  {
   "cell_type": "markdown",
   "id": "8c64cde8",
   "metadata": {},
   "source": [
    "Добавим столбец со временем, удалив дату"
   ]
  },
  {
   "cell_type": "code",
   "execution_count": 15,
   "id": "4db41ac3",
   "metadata": {},
   "outputs": [],
   "source": [
    "# Удалим ненужный столбец\n",
    "data_raw = data_raw[['record_id', 'item_topic', 'source_topic', 'age_segment', 'dt',\n",
    "       'visits']]\n",
    "\n",
    "# Сохраняем таблицу локаьно для Tableau\n",
    "data_raw.to_csv('dash_visits.csv', sep='\\t')"
   ]
  },
  {
   "cell_type": "markdown",
   "id": "5d172c62",
   "metadata": {},
   "source": [
    "## Анализ популярности тем"
   ]
  },
  {
   "cell_type": "code",
   "execution_count": 16,
   "id": "b6d485a1",
   "metadata": {
    "scrolled": true
   },
   "outputs": [
    {
     "data": {
      "text/plain": [
       "visits    99756\n",
       "dtype: int64"
      ]
     },
     "execution_count": 16,
     "metadata": {},
     "output_type": "execute_result"
    }
   ],
   "source": [
    "# Сколько всего статей из топ-5 тем карточек\n",
    "data_raw.pivot_table(\n",
    "    index='item_topic', values='visits', aggfunc='sum'\n",
    ").sort_values(by='visits', ascending=False).head().sum()"
   ]
  },
  {
   "cell_type": "code",
   "execution_count": 17,
   "id": "a7519d7e",
   "metadata": {
    "scrolled": true
   },
   "outputs": [
    {
     "data": {
      "text/plain": [
       "19844"
      ]
     },
     "execution_count": 17,
     "metadata": {},
     "output_type": "execute_result"
    }
   ],
   "source": [
    "# Сколько статей из топ-5 тем карточек в минуту\n",
    "data_raw.pivot_table(\n",
    "    index='item_topic', columns='dt', values='visits', aggfunc='sum'\n",
    ")['2019-09-24 18:58:00'].sort_values(ascending=False).head().sum()"
   ]
  },
  {
   "cell_type": "code",
   "execution_count": 18,
   "id": "2138f328",
   "metadata": {},
   "outputs": [
    {
     "data": {
      "text/plain": [
       "visits    30.820201\n",
       "dtype: float64"
      ]
     },
     "execution_count": 18,
     "metadata": {},
     "output_type": "execute_result"
    }
   ],
   "source": [
    "# Какой процент статей из топ-5 тем карточек от всех карточек\n",
    "len(data_raw)/(data_raw.pivot_table(\n",
    "    index='item_topic', values='visits', aggfunc='sum'\n",
    ").sort_values(by='visits', ascending=False).head().sum())*100\n"
   ]
  },
  {
   "cell_type": "code",
   "execution_count": 19,
   "id": "7a2b14be",
   "metadata": {},
   "outputs": [
    {
     "data": {
      "text/html": [
       "<div>\n",
       "<style scoped>\n",
       "    .dataframe tbody tr th:only-of-type {\n",
       "        vertical-align: middle;\n",
       "    }\n",
       "\n",
       "    .dataframe tbody tr th {\n",
       "        vertical-align: top;\n",
       "    }\n",
       "\n",
       "    .dataframe thead th {\n",
       "        text-align: right;\n",
       "    }\n",
       "</style>\n",
       "<table border=\"1\" class=\"dataframe\">\n",
       "  <thead>\n",
       "    <tr style=\"text-align: right;\">\n",
       "      <th></th>\n",
       "      <th>Тема источника</th>\n",
       "      <th>Тема карточки</th>\n",
       "      <th>Количество посещений</th>\n",
       "    </tr>\n",
       "  </thead>\n",
       "  <tbody>\n",
       "    <tr>\n",
       "      <th>0</th>\n",
       "      <td>Путешествия</td>\n",
       "      <td>Рассказы</td>\n",
       "      <td>4587</td>\n",
       "    </tr>\n",
       "    <tr>\n",
       "      <th>1</th>\n",
       "      <td>Россия</td>\n",
       "      <td>Общество</td>\n",
       "      <td>3471</td>\n",
       "    </tr>\n",
       "    <tr>\n",
       "      <th>2</th>\n",
       "      <td>Кино</td>\n",
       "      <td>Наука</td>\n",
       "      <td>3279</td>\n",
       "    </tr>\n",
       "    <tr>\n",
       "      <th>3</th>\n",
       "      <td>Россия</td>\n",
       "      <td>Россия</td>\n",
       "      <td>2847</td>\n",
       "    </tr>\n",
       "    <tr>\n",
       "      <th>4</th>\n",
       "      <td>Полезные советы</td>\n",
       "      <td>Подборки</td>\n",
       "      <td>2795</td>\n",
       "    </tr>\n",
       "    <tr>\n",
       "      <th>5</th>\n",
       "      <td>Семейные отношения</td>\n",
       "      <td>Общество</td>\n",
       "      <td>2727</td>\n",
       "    </tr>\n",
       "    <tr>\n",
       "      <th>6</th>\n",
       "      <td>Полезные советы</td>\n",
       "      <td>Отношения</td>\n",
       "      <td>2716</td>\n",
       "    </tr>\n",
       "    <tr>\n",
       "      <th>7</th>\n",
       "      <td>Путешествия</td>\n",
       "      <td>История</td>\n",
       "      <td>2643</td>\n",
       "    </tr>\n",
       "    <tr>\n",
       "      <th>8</th>\n",
       "      <td>Россия</td>\n",
       "      <td>Интересные факты</td>\n",
       "      <td>2567</td>\n",
       "    </tr>\n",
       "    <tr>\n",
       "      <th>9</th>\n",
       "      <td>Полезные советы</td>\n",
       "      <td>Здоровье</td>\n",
       "      <td>2335</td>\n",
       "    </tr>\n",
       "  </tbody>\n",
       "</table>\n",
       "</div>"
      ],
      "text/plain": [
       "       Тема источника     Тема карточки  Количество посещений\n",
       "0         Путешествия          Рассказы                  4587\n",
       "1              Россия          Общество                  3471\n",
       "2                Кино             Наука                  3279\n",
       "3              Россия            Россия                  2847\n",
       "4     Полезные советы          Подборки                  2795\n",
       "5  Семейные отношения          Общество                  2727\n",
       "6     Полезные советы         Отношения                  2716\n",
       "7         Путешествия           История                  2643\n",
       "8              Россия  Интересные факты                  2567\n",
       "9     Полезные советы          Здоровье                  2335"
      ]
     },
     "execution_count": 19,
     "metadata": {},
     "output_type": "execute_result"
    }
   ],
   "source": [
    "# Какие самые популярные сочетания источник-карточка\n",
    "data_raw.groupby(\n",
    "    ['source_topic', 'item_topic']\n",
    "                )['visits'].sum().sort_values(ascending=False).reset_index().rename(\n",
    "                columns={'source_topic':'Тема источника'\n",
    "                         , 'item_topic':'Тема карточки'\n",
    "                         , 'visits':'Количество посещений'}).head(10)"
   ]
  },
  {
   "cell_type": "code",
   "execution_count": null,
   "id": "5e6cd1d6",
   "metadata": {},
   "outputs": [],
   "source": []
  }
 ],
 "metadata": {
  "kernelspec": {
   "display_name": "Python 3 (ipykernel)",
   "language": "python",
   "name": "python3"
  },
  "language_info": {
   "codemirror_mode": {
    "name": "ipython",
    "version": 3
   },
   "file_extension": ".py",
   "mimetype": "text/x-python",
   "name": "python",
   "nbconvert_exporter": "python",
   "pygments_lexer": "ipython3",
   "version": "3.9.7"
  },
  "toc": {
   "base_numbering": 1,
   "nav_menu": {},
   "number_sections": true,
   "sideBar": true,
   "skip_h1_title": true,
   "title_cell": "Table of Contents",
   "title_sidebar": "Contents",
   "toc_cell": true,
   "toc_position": {},
   "toc_section_display": true,
   "toc_window_display": false
  }
 },
 "nbformat": 4,
 "nbformat_minor": 5
}
