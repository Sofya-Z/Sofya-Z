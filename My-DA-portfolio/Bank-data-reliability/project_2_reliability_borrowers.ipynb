{
 "cells": [
  {
   "cell_type": "markdown",
   "id": "92f3a607",
   "metadata": {
    "toc": true
   },
   "source": [
    "<h1>Table of Contents<span class=\"tocSkip\"></span></h1>\n",
    "<div class=\"toc\"><ul class=\"toc-item\"><li><span><a href=\"#Обзор-данных\" data-toc-modified-id=\"Обзор-данных-1\"><span class=\"toc-item-num\">1&nbsp;&nbsp;</span>Обзор данных</a></span><ul class=\"toc-item\"><li><span><a href=\"#Вывод-по-шагу-1.\" data-toc-modified-id=\"Вывод-по-шагу-1.-1.1\"><span class=\"toc-item-num\">1.1&nbsp;&nbsp;</span>Вывод по шагу 1.</a></span></li></ul></li><li><span><a href=\"#Предобработка-данных\" data-toc-modified-id=\"Предобработка-данных-2\"><span class=\"toc-item-num\">2&nbsp;&nbsp;</span>Предобработка данных</a></span><ul class=\"toc-item\"><li><span><a href=\"#Обработка-аномальных-значений-в-days_employed.\" data-toc-modified-id=\"Обработка-аномальных-значений-в-days_employed.-2.1\"><span class=\"toc-item-num\">2.1&nbsp;&nbsp;</span>Обработка аномальных значений в <code>days_employed</code>.</a></span></li><li><span><a href=\"#Обработка-значений-в-столбце-education\" data-toc-modified-id=\"Обработка-значений-в-столбце-education-2.2\"><span class=\"toc-item-num\">2.2&nbsp;&nbsp;</span>Обработка значений в столбце <code>education</code></a></span></li><li><span><a href=\"#Обработка-пропущенных-значений-в-количественных-переменных.\" data-toc-modified-id=\"Обработка-пропущенных-значений-в-количественных-переменных.-2.3\"><span class=\"toc-item-num\">2.3&nbsp;&nbsp;</span>Обработка пропущенных значений в количественных переменных.</a></span></li><li><span><a href=\"#Изменение-типов-данных-с-float-на-int.\" data-toc-modified-id=\"Изменение-типов-данных-с-float-на-int.-2.4\"><span class=\"toc-item-num\">2.4&nbsp;&nbsp;</span>Изменение типов данных с <code>float</code> на <code>int</code>.</a></span></li><li><span><a href=\"#Проверка-опечаток-в-категориальных-данных.\" data-toc-modified-id=\"Проверка-опечаток-в-категориальных-данных.-2.5\"><span class=\"toc-item-num\">2.5&nbsp;&nbsp;</span>Проверка опечаток в категориальных данных.</a></span></li><li><span><a href=\"#Обработка-строк-дубликатов.\" data-toc-modified-id=\"Обработка-строк-дубликатов.-2.6\"><span class=\"toc-item-num\">2.6&nbsp;&nbsp;</span>Обработка строк-дубликатов.</a></span></li><li><span><a href=\"#Создание-&quot;словарей&quot;-категориальных-данных.\" data-toc-modified-id=\"Создание-&quot;словарей&quot;-категориальных-данных.-2.7\"><span class=\"toc-item-num\">2.7&nbsp;&nbsp;</span>Создание \"словарей\" категориальных данных.</a></span></li><li><span><a href=\"#Категоризация-ежемесячного-дохода.\" data-toc-modified-id=\"Категоризация-ежемесячного-дохода.-2.8\"><span class=\"toc-item-num\">2.8&nbsp;&nbsp;</span>Категоризация ежемесячного дохода.</a></span></li><li><span><a href=\"#Категоризация-цели-кредита.\" data-toc-modified-id=\"Категоризация-цели-кредита.-2.9\"><span class=\"toc-item-num\">2.9&nbsp;&nbsp;</span>Категоризация цели кредита.</a></span></li><li><span><a href=\"#Вывод-по-шагу-2.\" data-toc-modified-id=\"Вывод-по-шагу-2.-2.10\"><span class=\"toc-item-num\">2.10&nbsp;&nbsp;</span>Вывод по шагу 2.</a></span></li></ul></li><li><span><a href=\"#Ответы-на-вопросы\" data-toc-modified-id=\"Ответы-на-вопросы-3\"><span class=\"toc-item-num\">3&nbsp;&nbsp;</span>Ответы на вопросы</a></span><ul class=\"toc-item\"><li><span><a href=\"#Предварительный-анализ-данных-по-возврату-кредита\" data-toc-modified-id=\"Предварительный-анализ-данных-по-возврату-кредита-3.1\"><span class=\"toc-item-num\">3.1&nbsp;&nbsp;</span>Предварительный анализ данных по возврату кредита</a></span></li><li><span><a href=\"#Есть-ли-зависимость-между-количеством-детей-и-возвратом-кредита-в-срок?\" data-toc-modified-id=\"Есть-ли-зависимость-между-количеством-детей-и-возвратом-кредита-в-срок?-3.2\"><span class=\"toc-item-num\">3.2&nbsp;&nbsp;</span>Есть ли зависимость между количеством детей и возвратом кредита в срок?</a></span></li><li><span><a href=\"#Есть-ли-зависимость-между-семейным-положением-и-возвратом-кредита-в-срок?\" data-toc-modified-id=\"Есть-ли-зависимость-между-семейным-положением-и-возвратом-кредита-в-срок?-3.3\"><span class=\"toc-item-num\">3.3&nbsp;&nbsp;</span>Есть ли зависимость между семейным положением и возвратом кредита в срок?</a></span></li><li><span><a href=\"#Есть-ли-зависимость-между-уровнем-дохода-и-возвратом-кредита-в-срок?\" data-toc-modified-id=\"Есть-ли-зависимость-между-уровнем-дохода-и-возвратом-кредита-в-срок?-3.4\"><span class=\"toc-item-num\">3.4&nbsp;&nbsp;</span>Есть ли зависимость между уровнем дохода и возвратом кредита в срок?</a></span></li><li><span><a href=\"#Как-разные-цели-кредита-влияют-на-его-возврат-в-срок?\" data-toc-modified-id=\"Как-разные-цели-кредита-влияют-на-его-возврат-в-срок?-3.5\"><span class=\"toc-item-num\">3.5&nbsp;&nbsp;</span>Как разные цели кредита влияют на его возврат в срок?</a></span></li><li><span><a href=\"#Вывод-по-шагу-3.\" data-toc-modified-id=\"Вывод-по-шагу-3.-3.6\"><span class=\"toc-item-num\">3.6&nbsp;&nbsp;</span>Вывод по шагу 3.</a></span></li></ul></li><li><span><a href=\"#Выводы-исследования\" data-toc-modified-id=\"Выводы-исследования-4\"><span class=\"toc-item-num\">4&nbsp;&nbsp;</span>Выводы исследования</a></span><ul class=\"toc-item\"><li><span><a href=\"#Для-изучения-данных-была-проведена-первичная-обработка,-исключающая-возможность-ошибки-при-анализе.\" data-toc-modified-id=\"Для-изучения-данных-была-проведена-первичная-обработка,-исключающая-возможность-ошибки-при-анализе.-4.1\"><span class=\"toc-item-num\">4.1&nbsp;&nbsp;</span>Для изучения данных была проведена первичная обработка, исключающая возможность ошибки при анализе.</a></span></li><li><span><a href=\"#Была-проведена-группировка-качественных-и-количественных-данных\" data-toc-modified-id=\"Была-проведена-группировка-качественных-и-количественных-данных-4.2\"><span class=\"toc-item-num\">4.2&nbsp;&nbsp;</span>Была проведена группировка качественных и количественных данных</a></span></li><li><span><a href=\"#По-поставленным-вопросам-были-сделаны-следующие-выводы:\" data-toc-modified-id=\"По-поставленным-вопросам-были-сделаны-следующие-выводы:-4.3\"><span class=\"toc-item-num\">4.3&nbsp;&nbsp;</span>По поставленным вопросам были сделаны следующие выводы:</a></span></li><li><span><a href=\"#Дополнительные-воводы:\" data-toc-modified-id=\"Дополнительные-воводы:-4.4\"><span class=\"toc-item-num\">4.4&nbsp;&nbsp;</span>Дополнительные воводы:</a></span></li></ul></li></ul></div>"
   ]
  },
  {
   "cell_type": "markdown",
   "id": "60e0de9d",
   "metadata": {},
   "source": [
    "# Исследование надежности заемщиков."
   ]
  },
  {
   "cell_type": "markdown",
   "id": "8a75572e",
   "metadata": {},
   "source": [
    "## Обзор данных"
   ]
  },
  {
   "cell_type": "markdown",
   "id": "ff35b686",
   "metadata": {},
   "source": [
    "Загрузим библиотеку `pandas`, загрузим и откроем датасет."
   ]
  },
  {
   "cell_type": "code",
   "execution_count": 1,
   "id": "44567176",
   "metadata": {},
   "outputs": [],
   "source": [
    "import pandas as pd"
   ]
  },
  {
   "cell_type": "code",
   "execution_count": 2,
   "id": "195663d9",
   "metadata": {},
   "outputs": [],
   "source": [
    "# Для запуска кода с разных машин, прописано два пути к данным\n",
    "\n",
    "import os\n",
    "\n",
    "pth1 = '/datasets/data.csv'\n",
    "pth2 = 'file_name_project_2.csv'\n",
    "\n",
    "if os.path.exists(pth1):\n",
    "    df = pd.read_csv(pth1)\n",
    "elif os.path.exists(pth2):\n",
    "    df = pd.read_csv(pth2)\n",
    "else:\n",
    "    print('Датасет не найден, проверьте путь к файлу')"
   ]
  },
  {
   "cell_type": "code",
   "execution_count": 3,
   "id": "d32fdead",
   "metadata": {
    "scrolled": false
   },
   "outputs": [
    {
     "data": {
      "text/html": [
       "<div>\n",
       "<style scoped>\n",
       "    .dataframe tbody tr th:only-of-type {\n",
       "        vertical-align: middle;\n",
       "    }\n",
       "\n",
       "    .dataframe tbody tr th {\n",
       "        vertical-align: top;\n",
       "    }\n",
       "\n",
       "    .dataframe thead th {\n",
       "        text-align: right;\n",
       "    }\n",
       "</style>\n",
       "<table border=\"1\" class=\"dataframe\">\n",
       "  <thead>\n",
       "    <tr style=\"text-align: right;\">\n",
       "      <th></th>\n",
       "      <th>children</th>\n",
       "      <th>days_employed</th>\n",
       "      <th>dob_years</th>\n",
       "      <th>education</th>\n",
       "      <th>education_id</th>\n",
       "      <th>family_status</th>\n",
       "      <th>family_status_id</th>\n",
       "      <th>gender</th>\n",
       "      <th>income_type</th>\n",
       "      <th>debt</th>\n",
       "      <th>total_income</th>\n",
       "      <th>purpose</th>\n",
       "    </tr>\n",
       "  </thead>\n",
       "  <tbody>\n",
       "    <tr>\n",
       "      <th>0</th>\n",
       "      <td>1</td>\n",
       "      <td>-8437.673028</td>\n",
       "      <td>42</td>\n",
       "      <td>высшее</td>\n",
       "      <td>0</td>\n",
       "      <td>женат / замужем</td>\n",
       "      <td>0</td>\n",
       "      <td>F</td>\n",
       "      <td>сотрудник</td>\n",
       "      <td>0</td>\n",
       "      <td>253875.639453</td>\n",
       "      <td>покупка жилья</td>\n",
       "    </tr>\n",
       "    <tr>\n",
       "      <th>1</th>\n",
       "      <td>1</td>\n",
       "      <td>-4024.803754</td>\n",
       "      <td>36</td>\n",
       "      <td>среднее</td>\n",
       "      <td>1</td>\n",
       "      <td>женат / замужем</td>\n",
       "      <td>0</td>\n",
       "      <td>F</td>\n",
       "      <td>сотрудник</td>\n",
       "      <td>0</td>\n",
       "      <td>112080.014102</td>\n",
       "      <td>приобретение автомобиля</td>\n",
       "    </tr>\n",
       "    <tr>\n",
       "      <th>2</th>\n",
       "      <td>0</td>\n",
       "      <td>-5623.422610</td>\n",
       "      <td>33</td>\n",
       "      <td>Среднее</td>\n",
       "      <td>1</td>\n",
       "      <td>женат / замужем</td>\n",
       "      <td>0</td>\n",
       "      <td>M</td>\n",
       "      <td>сотрудник</td>\n",
       "      <td>0</td>\n",
       "      <td>145885.952297</td>\n",
       "      <td>покупка жилья</td>\n",
       "    </tr>\n",
       "    <tr>\n",
       "      <th>3</th>\n",
       "      <td>3</td>\n",
       "      <td>-4124.747207</td>\n",
       "      <td>32</td>\n",
       "      <td>среднее</td>\n",
       "      <td>1</td>\n",
       "      <td>женат / замужем</td>\n",
       "      <td>0</td>\n",
       "      <td>M</td>\n",
       "      <td>сотрудник</td>\n",
       "      <td>0</td>\n",
       "      <td>267628.550329</td>\n",
       "      <td>дополнительное образование</td>\n",
       "    </tr>\n",
       "    <tr>\n",
       "      <th>4</th>\n",
       "      <td>0</td>\n",
       "      <td>340266.072047</td>\n",
       "      <td>53</td>\n",
       "      <td>среднее</td>\n",
       "      <td>1</td>\n",
       "      <td>гражданский брак</td>\n",
       "      <td>1</td>\n",
       "      <td>F</td>\n",
       "      <td>пенсионер</td>\n",
       "      <td>0</td>\n",
       "      <td>158616.077870</td>\n",
       "      <td>сыграть свадьбу</td>\n",
       "    </tr>\n",
       "    <tr>\n",
       "      <th>5</th>\n",
       "      <td>0</td>\n",
       "      <td>-926.185831</td>\n",
       "      <td>27</td>\n",
       "      <td>высшее</td>\n",
       "      <td>0</td>\n",
       "      <td>гражданский брак</td>\n",
       "      <td>1</td>\n",
       "      <td>M</td>\n",
       "      <td>компаньон</td>\n",
       "      <td>0</td>\n",
       "      <td>255763.565419</td>\n",
       "      <td>покупка жилья</td>\n",
       "    </tr>\n",
       "    <tr>\n",
       "      <th>6</th>\n",
       "      <td>0</td>\n",
       "      <td>-2879.202052</td>\n",
       "      <td>43</td>\n",
       "      <td>высшее</td>\n",
       "      <td>0</td>\n",
       "      <td>женат / замужем</td>\n",
       "      <td>0</td>\n",
       "      <td>F</td>\n",
       "      <td>компаньон</td>\n",
       "      <td>0</td>\n",
       "      <td>240525.971920</td>\n",
       "      <td>операции с жильем</td>\n",
       "    </tr>\n",
       "    <tr>\n",
       "      <th>7</th>\n",
       "      <td>0</td>\n",
       "      <td>-152.779569</td>\n",
       "      <td>50</td>\n",
       "      <td>СРЕДНЕЕ</td>\n",
       "      <td>1</td>\n",
       "      <td>женат / замужем</td>\n",
       "      <td>0</td>\n",
       "      <td>M</td>\n",
       "      <td>сотрудник</td>\n",
       "      <td>0</td>\n",
       "      <td>135823.934197</td>\n",
       "      <td>образование</td>\n",
       "    </tr>\n",
       "    <tr>\n",
       "      <th>8</th>\n",
       "      <td>2</td>\n",
       "      <td>-6929.865299</td>\n",
       "      <td>35</td>\n",
       "      <td>ВЫСШЕЕ</td>\n",
       "      <td>0</td>\n",
       "      <td>гражданский брак</td>\n",
       "      <td>1</td>\n",
       "      <td>F</td>\n",
       "      <td>сотрудник</td>\n",
       "      <td>0</td>\n",
       "      <td>95856.832424</td>\n",
       "      <td>на проведение свадьбы</td>\n",
       "    </tr>\n",
       "    <tr>\n",
       "      <th>9</th>\n",
       "      <td>0</td>\n",
       "      <td>-2188.756445</td>\n",
       "      <td>41</td>\n",
       "      <td>среднее</td>\n",
       "      <td>1</td>\n",
       "      <td>женат / замужем</td>\n",
       "      <td>0</td>\n",
       "      <td>M</td>\n",
       "      <td>сотрудник</td>\n",
       "      <td>0</td>\n",
       "      <td>144425.938277</td>\n",
       "      <td>покупка жилья для семьи</td>\n",
       "    </tr>\n",
       "  </tbody>\n",
       "</table>\n",
       "</div>"
      ],
      "text/plain": [
       "   children  days_employed  dob_years education  education_id  \\\n",
       "0         1   -8437.673028         42    высшее             0   \n",
       "1         1   -4024.803754         36   среднее             1   \n",
       "2         0   -5623.422610         33   Среднее             1   \n",
       "3         3   -4124.747207         32   среднее             1   \n",
       "4         0  340266.072047         53   среднее             1   \n",
       "5         0    -926.185831         27    высшее             0   \n",
       "6         0   -2879.202052         43    высшее             0   \n",
       "7         0    -152.779569         50   СРЕДНЕЕ             1   \n",
       "8         2   -6929.865299         35    ВЫСШЕЕ             0   \n",
       "9         0   -2188.756445         41   среднее             1   \n",
       "\n",
       "      family_status  family_status_id gender income_type  debt   total_income  \\\n",
       "0   женат / замужем                 0      F   сотрудник     0  253875.639453   \n",
       "1   женат / замужем                 0      F   сотрудник     0  112080.014102   \n",
       "2   женат / замужем                 0      M   сотрудник     0  145885.952297   \n",
       "3   женат / замужем                 0      M   сотрудник     0  267628.550329   \n",
       "4  гражданский брак                 1      F   пенсионер     0  158616.077870   \n",
       "5  гражданский брак                 1      M   компаньон     0  255763.565419   \n",
       "6   женат / замужем                 0      F   компаньон     0  240525.971920   \n",
       "7   женат / замужем                 0      M   сотрудник     0  135823.934197   \n",
       "8  гражданский брак                 1      F   сотрудник     0   95856.832424   \n",
       "9   женат / замужем                 0      M   сотрудник     0  144425.938277   \n",
       "\n",
       "                      purpose  \n",
       "0               покупка жилья  \n",
       "1     приобретение автомобиля  \n",
       "2               покупка жилья  \n",
       "3  дополнительное образование  \n",
       "4             сыграть свадьбу  \n",
       "5               покупка жилья  \n",
       "6           операции с жильем  \n",
       "7                 образование  \n",
       "8       на проведение свадьбы  \n",
       "9     покупка жилья для семьи  "
      ]
     },
     "execution_count": 3,
     "metadata": {},
     "output_type": "execute_result"
    }
   ],
   "source": [
    "df.head(10)"
   ]
  },
  {
   "cell_type": "code",
   "execution_count": 4,
   "id": "394bd540",
   "metadata": {},
   "outputs": [
    {
     "data": {
      "text/html": [
       "<div>\n",
       "<style scoped>\n",
       "    .dataframe tbody tr th:only-of-type {\n",
       "        vertical-align: middle;\n",
       "    }\n",
       "\n",
       "    .dataframe tbody tr th {\n",
       "        vertical-align: top;\n",
       "    }\n",
       "\n",
       "    .dataframe thead th {\n",
       "        text-align: right;\n",
       "    }\n",
       "</style>\n",
       "<table border=\"1\" class=\"dataframe\">\n",
       "  <thead>\n",
       "    <tr style=\"text-align: right;\">\n",
       "      <th></th>\n",
       "      <th>children</th>\n",
       "      <th>days_employed</th>\n",
       "      <th>dob_years</th>\n",
       "      <th>education</th>\n",
       "      <th>education_id</th>\n",
       "      <th>family_status</th>\n",
       "      <th>family_status_id</th>\n",
       "      <th>gender</th>\n",
       "      <th>income_type</th>\n",
       "      <th>debt</th>\n",
       "      <th>total_income</th>\n",
       "      <th>purpose</th>\n",
       "    </tr>\n",
       "  </thead>\n",
       "  <tbody>\n",
       "    <tr>\n",
       "      <th>21520</th>\n",
       "      <td>1</td>\n",
       "      <td>-4529.316663</td>\n",
       "      <td>43</td>\n",
       "      <td>среднее</td>\n",
       "      <td>1</td>\n",
       "      <td>гражданский брак</td>\n",
       "      <td>1</td>\n",
       "      <td>F</td>\n",
       "      <td>компаньон</td>\n",
       "      <td>0</td>\n",
       "      <td>224791.862382</td>\n",
       "      <td>операции с жильем</td>\n",
       "    </tr>\n",
       "    <tr>\n",
       "      <th>21521</th>\n",
       "      <td>0</td>\n",
       "      <td>343937.404131</td>\n",
       "      <td>67</td>\n",
       "      <td>среднее</td>\n",
       "      <td>1</td>\n",
       "      <td>женат / замужем</td>\n",
       "      <td>0</td>\n",
       "      <td>F</td>\n",
       "      <td>пенсионер</td>\n",
       "      <td>0</td>\n",
       "      <td>155999.806512</td>\n",
       "      <td>сделка с автомобилем</td>\n",
       "    </tr>\n",
       "    <tr>\n",
       "      <th>21522</th>\n",
       "      <td>1</td>\n",
       "      <td>-2113.346888</td>\n",
       "      <td>38</td>\n",
       "      <td>среднее</td>\n",
       "      <td>1</td>\n",
       "      <td>гражданский брак</td>\n",
       "      <td>1</td>\n",
       "      <td>M</td>\n",
       "      <td>сотрудник</td>\n",
       "      <td>1</td>\n",
       "      <td>89672.561153</td>\n",
       "      <td>недвижимость</td>\n",
       "    </tr>\n",
       "    <tr>\n",
       "      <th>21523</th>\n",
       "      <td>3</td>\n",
       "      <td>-3112.481705</td>\n",
       "      <td>38</td>\n",
       "      <td>среднее</td>\n",
       "      <td>1</td>\n",
       "      <td>женат / замужем</td>\n",
       "      <td>0</td>\n",
       "      <td>M</td>\n",
       "      <td>сотрудник</td>\n",
       "      <td>1</td>\n",
       "      <td>244093.050500</td>\n",
       "      <td>на покупку своего автомобиля</td>\n",
       "    </tr>\n",
       "    <tr>\n",
       "      <th>21524</th>\n",
       "      <td>2</td>\n",
       "      <td>-1984.507589</td>\n",
       "      <td>40</td>\n",
       "      <td>среднее</td>\n",
       "      <td>1</td>\n",
       "      <td>женат / замужем</td>\n",
       "      <td>0</td>\n",
       "      <td>F</td>\n",
       "      <td>сотрудник</td>\n",
       "      <td>0</td>\n",
       "      <td>82047.418899</td>\n",
       "      <td>на покупку автомобиля</td>\n",
       "    </tr>\n",
       "  </tbody>\n",
       "</table>\n",
       "</div>"
      ],
      "text/plain": [
       "       children  days_employed  dob_years education  education_id  \\\n",
       "21520         1   -4529.316663         43   среднее             1   \n",
       "21521         0  343937.404131         67   среднее             1   \n",
       "21522         1   -2113.346888         38   среднее             1   \n",
       "21523         3   -3112.481705         38   среднее             1   \n",
       "21524         2   -1984.507589         40   среднее             1   \n",
       "\n",
       "          family_status  family_status_id gender income_type  debt  \\\n",
       "21520  гражданский брак                 1      F   компаньон     0   \n",
       "21521   женат / замужем                 0      F   пенсионер     0   \n",
       "21522  гражданский брак                 1      M   сотрудник     1   \n",
       "21523   женат / замужем                 0      M   сотрудник     1   \n",
       "21524   женат / замужем                 0      F   сотрудник     0   \n",
       "\n",
       "        total_income                       purpose  \n",
       "21520  224791.862382             операции с жильем  \n",
       "21521  155999.806512          сделка с автомобилем  \n",
       "21522   89672.561153                  недвижимость  \n",
       "21523  244093.050500  на покупку своего автомобиля  \n",
       "21524   82047.418899         на покупку автомобиля  "
      ]
     },
     "execution_count": 4,
     "metadata": {},
     "output_type": "execute_result"
    }
   ],
   "source": [
    "df.tail()"
   ]
  },
  {
   "cell_type": "markdown",
   "id": "8d47900b",
   "metadata": {},
   "source": [
    "Выведем основную информацию о данных:"
   ]
  },
  {
   "cell_type": "code",
   "execution_count": 5,
   "id": "6b676d6f",
   "metadata": {
    "scrolled": true
   },
   "outputs": [
    {
     "name": "stdout",
     "output_type": "stream",
     "text": [
      "<class 'pandas.core.frame.DataFrame'>\n",
      "RangeIndex: 21525 entries, 0 to 21524\n",
      "Data columns (total 12 columns):\n",
      " #   Column            Non-Null Count  Dtype  \n",
      "---  ------            --------------  -----  \n",
      " 0   children          21525 non-null  int64  \n",
      " 1   days_employed     19351 non-null  float64\n",
      " 2   dob_years         21525 non-null  int64  \n",
      " 3   education         21525 non-null  object \n",
      " 4   education_id      21525 non-null  int64  \n",
      " 5   family_status     21525 non-null  object \n",
      " 6   family_status_id  21525 non-null  int64  \n",
      " 7   gender            21525 non-null  object \n",
      " 8   income_type       21525 non-null  object \n",
      " 9   debt              21525 non-null  int64  \n",
      " 10  total_income      19351 non-null  float64\n",
      " 11  purpose           21525 non-null  object \n",
      "dtypes: float64(2), int64(5), object(5)\n",
      "memory usage: 2.0+ MB\n"
     ]
    }
   ],
   "source": [
    "df.info()"
   ]
  },
  {
   "cell_type": "markdown",
   "id": "eb08bed5",
   "metadata": {},
   "source": [
    "### Вывод по шагу 1.\n",
    "\n",
    "*тип данных в столбцах необходимо учитывать при обработке значений*\n",
    "*названия столбцов соответствуют общепринятой традиции*\n",
    "\n",
    "**Что надо исправить:**\n",
    "\n",
    "1. Столбцы `days_employed` и `total_income` содержат по 2174 нулевых значения.\n",
    "2. Все столбцы с данными `str` надо проверить на опечатки - вывести список уникальных значений.\n",
    "3. Столбец `days_employed` содержит большое число аномальных отрицательных значений.\n",
    "4. В столбце `education` есть опечатки из-за различного регистра букв.\n",
    "5. Необходимо проверить на явные и скрытые дубликаты.\n",
    "6. Заменить в столбцах `days_employed` и `total_income` тип данных с `float` на `int`."
   ]
  },
  {
   "cell_type": "markdown",
   "id": "ed1ba101",
   "metadata": {},
   "source": [
    "## Предобработка данных"
   ]
  },
  {
   "cell_type": "markdown",
   "id": "17c283e1",
   "metadata": {},
   "source": [
    "### Обработка аномальных значений в `days_employed`."
   ]
  },
  {
   "cell_type": "markdown",
   "id": "80567e47",
   "metadata": {},
   "source": [
    "Определим сколько всего и долю отрицательных значений в `days_employed`."
   ]
  },
  {
   "cell_type": "code",
   "execution_count": 6,
   "id": "039d4bbf",
   "metadata": {},
   "outputs": [
    {
     "name": "stdout",
     "output_type": "stream",
     "text": [
      "15906\n",
      "Доля отрицательных значений в столбце days_employed:  74%\n"
     ]
    }
   ],
   "source": [
    "# столбец `days_employed` может содержать данные типа 'str'.\n",
    "# сравнение `'str' < 0` даст ошибку кода\n",
    "# что бы избежать ошибки, применим конструкцию try-except\n",
    "try:\n",
    "    print(df[df['days_employed'] < 0]['debt'].count())\n",
    "\n",
    "# посчитаем процент отрицательных значений\n",
    "    na_percent = df[df['days_employed'] < 0]['debt'].count()/(df['debt'].count())\n",
    "    print(f'Доля отрицательных значений в столбце days_employed: {na_percent: .0%}')\n",
    "    \n",
    "except:\n",
    "    print('Столбец days_employed содержит необрабатываемые значения!')"
   ]
  },
  {
   "cell_type": "markdown",
   "id": "f0acc9bb",
   "metadata": {},
   "source": [
    "**Более 70% значений отрицательные.**\n",
    "\n",
    "Вероятнее всего это следствие ошибки обработки исходных данных: минус перед значением - это тире в исходной таблице.\n",
    "Поэтому, отрицательные значения надо заменить на их модуль."
   ]
  },
  {
   "cell_type": "code",
   "execution_count": 7,
   "id": "8bebc720",
   "metadata": {
    "scrolled": true
   },
   "outputs": [
    {
     "name": "stdout",
     "output_type": "stream",
     "text": [
      "Доля отрицательных значений в столбце days_employed:  0%\n"
     ]
    }
   ],
   "source": [
    "# столбец `days_employed` может содержать данные типа 'str'.\n",
    "# сравнение `'str' < 0` даст ошибку кода\n",
    "# что бы избежать ошибки, применим конструкцию try-except\n",
    "try:\n",
    "    df['days_employed'] = df['days_employed'].abs()\n",
    "\n",
    "# Проверим результат\n",
    "    na_percent = df[df['days_employed'] < 0]['debt'].count()/(df['debt'].count())\n",
    "    print(f'Доля отрицательных значений в столбце days_employed: {na_percent: .0%}')\n",
    "    \n",
    "except:\n",
    "    print('Столбец days_employed содержит необрабатываемые значения!')"
   ]
  },
  {
   "cell_type": "markdown",
   "id": "737778ba",
   "metadata": {},
   "source": [
    "**Результат:** *полученая таблица больше не содержит отрицательных значений в столбце `days_employed`.*\n",
    "\n"
   ]
  },
  {
   "cell_type": "markdown",
   "id": "baa42d3d",
   "metadata": {},
   "source": [
    "### Обработка значений в столбце `education`"
   ]
  },
  {
   "cell_type": "markdown",
   "id": "034ecabe",
   "metadata": {},
   "source": [
    "Определим все варианты значений в столбце `education`"
   ]
  },
  {
   "cell_type": "code",
   "execution_count": 8,
   "id": "f9db91a9",
   "metadata": {
    "scrolled": true
   },
   "outputs": [
    {
     "data": {
      "text/plain": [
       "среднее                13750\n",
       "высшее                  4718\n",
       "СРЕДНЕЕ                  772\n",
       "Среднее                  711\n",
       "неоконченное высшее      668\n",
       "ВЫСШЕЕ                   274\n",
       "Высшее                   268\n",
       "начальное                250\n",
       "Неоконченное высшее       47\n",
       "НЕОКОНЧЕННОЕ ВЫСШЕЕ       29\n",
       "НАЧАЛЬНОЕ                 17\n",
       "Начальное                 15\n",
       "ученая степень             4\n",
       "Ученая степень             1\n",
       "УЧЕНАЯ СТЕПЕНЬ             1\n",
       "Name: education, dtype: int64"
      ]
     },
     "execution_count": 8,
     "metadata": {},
     "output_type": "execute_result"
    }
   ],
   "source": [
    "df['education'].value_counts()"
   ]
  },
  {
   "cell_type": "markdown",
   "id": "1860744f",
   "metadata": {},
   "source": [
    "Причины появления дубликатов:\n",
    "* Данные об образовании заводятся в системе вручную, что приводит к несогласованному написанию\n",
    "* Возможно, существует несколько анкет об образовании, в которых уровень образования написан по-разному.\n",
    "* Отдельные данные могли в разных системах пройти предварительную обработку и приведены к разному формату."
   ]
  },
  {
   "cell_type": "markdown",
   "id": "62bd1ca6",
   "metadata": {},
   "source": [
    "Приведем все варианты написания к нижнему регистру."
   ]
  },
  {
   "cell_type": "code",
   "execution_count": 9,
   "id": "43358f75",
   "metadata": {},
   "outputs": [
    {
     "data": {
      "text/plain": [
       "среднее                15233\n",
       "высшее                  5260\n",
       "неоконченное высшее      744\n",
       "начальное                282\n",
       "ученая степень             6\n",
       "Name: education, dtype: int64"
      ]
     },
     "execution_count": 9,
     "metadata": {},
     "output_type": "execute_result"
    }
   ],
   "source": [
    "df['education'] = df['education'].str.lower()\n",
    "\n",
    "# Проверка результата\n",
    "df['education'].value_counts()"
   ]
  },
  {
   "cell_type": "markdown",
   "id": "2c3c637c",
   "metadata": {},
   "source": [
    "**Результат:** *полученая таблица больше не содержит скрытые дубликаты.*"
   ]
  },
  {
   "cell_type": "markdown",
   "id": "f4a699e7",
   "metadata": {},
   "source": [
    "### Обработка пропущенных значений в количественных переменных."
   ]
  },
  {
   "cell_type": "markdown",
   "id": "0e435f39",
   "metadata": {},
   "source": [
    "Посчитаем количество и долю пропущенных знечений в столбцах `days_employed` и `total_income`."
   ]
  },
  {
   "cell_type": "code",
   "execution_count": 10,
   "id": "a92c3663",
   "metadata": {},
   "outputs": [
    {
     "name": "stdout",
     "output_type": "stream",
     "text": [
      "Количество пропущеных значений days_employed:  2174\n",
      "Доля пропущеных значений days_employed:  0.10099883855981417\n",
      "\n",
      "Количество пропущеных значений days_employed:  2174\n",
      "Доля пропущеных значений total_income:  0.10099883855981417\n"
     ]
    }
   ],
   "source": [
    "print('Количество пропущеных значений days_employed: ', df['days_employed'].isna().sum())\n",
    "print('Доля пропущеных значений days_employed: ', df['days_employed'].isna().sum()/len(df['days_employed']))\n",
    "\n",
    "print('')\n",
    "\n",
    "print('Количество пропущеных значений days_employed: ', df['days_employed'].isna().sum())\n",
    "print('Доля пропущеных значений total_income: ', df['total_income'].isna().sum()/len(df['total_income']))"
   ]
  },
  {
   "cell_type": "markdown",
   "id": "f6389dab",
   "metadata": {},
   "source": [
    "Доля пропущенных значений достаточно высока.\n",
    "\n",
    "Значения могут отсутствовать по двум причинам: \n",
    "* из-за отсутствия информации в базе данных о трудовом стаже.\n",
    "* из-за отсутствия стажа у респондента в связи с молодостью или неоконченным образованием.\n",
    "\n",
    "Проверим вторую теорию.\n"
   ]
  },
  {
   "cell_type": "code",
   "execution_count": 11,
   "id": "97fb14c5",
   "metadata": {},
   "outputs": [],
   "source": [
    "# Таблица df_uncnown содержит только те значений, где были пропуски\n",
    "# Заполним пропуски значением 'unknown'\n",
    "df_uncnown = df.fillna('unknown')\n",
    "# Удалим все существующие значения\n",
    "df_uncnown = df_uncnown[df_uncnown['days_employed'] == 'unknown']\n"
   ]
  },
  {
   "cell_type": "code",
   "execution_count": 12,
   "id": "892712e6",
   "metadata": {
    "scrolled": true
   },
   "outputs": [
    {
     "data": {
      "text/html": [
       "<div>\n",
       "<style scoped>\n",
       "    .dataframe tbody tr th:only-of-type {\n",
       "        vertical-align: middle;\n",
       "    }\n",
       "\n",
       "    .dataframe tbody tr th {\n",
       "        vertical-align: top;\n",
       "    }\n",
       "\n",
       "    .dataframe thead th {\n",
       "        text-align: right;\n",
       "    }\n",
       "</style>\n",
       "<table border=\"1\" class=\"dataframe\">\n",
       "  <thead>\n",
       "    <tr style=\"text-align: right;\">\n",
       "      <th></th>\n",
       "      <th></th>\n",
       "      <th>debt</th>\n",
       "    </tr>\n",
       "    <tr>\n",
       "      <th>education</th>\n",
       "      <th>income_type</th>\n",
       "      <th></th>\n",
       "    </tr>\n",
       "  </thead>\n",
       "  <tbody>\n",
       "    <tr>\n",
       "      <th rowspan=\"5\" valign=\"top\">высшее</th>\n",
       "      <th>госслужащий</th>\n",
       "      <td>62</td>\n",
       "    </tr>\n",
       "    <tr>\n",
       "      <th>компаньон</th>\n",
       "      <td>188</td>\n",
       "    </tr>\n",
       "    <tr>\n",
       "      <th>пенсионер</th>\n",
       "      <td>57</td>\n",
       "    </tr>\n",
       "    <tr>\n",
       "      <th>предприниматель</th>\n",
       "      <td>1</td>\n",
       "    </tr>\n",
       "    <tr>\n",
       "      <th>сотрудник</th>\n",
       "      <td>236</td>\n",
       "    </tr>\n",
       "    <tr>\n",
       "      <th rowspan=\"4\" valign=\"top\">начальное</th>\n",
       "      <th>госслужащий</th>\n",
       "      <td>2</td>\n",
       "    </tr>\n",
       "    <tr>\n",
       "      <th>компаньон</th>\n",
       "      <td>1</td>\n",
       "    </tr>\n",
       "    <tr>\n",
       "      <th>пенсионер</th>\n",
       "      <td>6</td>\n",
       "    </tr>\n",
       "    <tr>\n",
       "      <th>сотрудник</th>\n",
       "      <td>12</td>\n",
       "    </tr>\n",
       "    <tr>\n",
       "      <th rowspan=\"4\" valign=\"top\">неоконченное высшее</th>\n",
       "      <th>госслужащий</th>\n",
       "      <td>6</td>\n",
       "    </tr>\n",
       "    <tr>\n",
       "      <th>компаньон</th>\n",
       "      <td>20</td>\n",
       "    </tr>\n",
       "    <tr>\n",
       "      <th>пенсионер</th>\n",
       "      <td>6</td>\n",
       "    </tr>\n",
       "    <tr>\n",
       "      <th>сотрудник</th>\n",
       "      <td>37</td>\n",
       "    </tr>\n",
       "    <tr>\n",
       "      <th rowspan=\"4\" valign=\"top\">среднее</th>\n",
       "      <th>госслужащий</th>\n",
       "      <td>77</td>\n",
       "    </tr>\n",
       "    <tr>\n",
       "      <th>компаньон</th>\n",
       "      <td>299</td>\n",
       "    </tr>\n",
       "    <tr>\n",
       "      <th>пенсионер</th>\n",
       "      <td>344</td>\n",
       "    </tr>\n",
       "    <tr>\n",
       "      <th>сотрудник</th>\n",
       "      <td>820</td>\n",
       "    </tr>\n",
       "  </tbody>\n",
       "</table>\n",
       "</div>"
      ],
      "text/plain": [
       "                                     debt\n",
       "education           income_type          \n",
       "высшее              госслужащий        62\n",
       "                    компаньон         188\n",
       "                    пенсионер          57\n",
       "                    предприниматель     1\n",
       "                    сотрудник         236\n",
       "начальное           госслужащий         2\n",
       "                    компаньон           1\n",
       "                    пенсионер           6\n",
       "                    сотрудник          12\n",
       "неоконченное высшее госслужащий         6\n",
       "                    компаньон          20\n",
       "                    пенсионер           6\n",
       "                    сотрудник          37\n",
       "среднее             госслужащий        77\n",
       "                    компаньон         299\n",
       "                    пенсионер         344\n",
       "                    сотрудник         820"
      ]
     },
     "execution_count": 12,
     "metadata": {},
     "output_type": "execute_result"
    }
   ],
   "source": [
    "# Посмотрим, как пропуски связаны с уровнем образования и должностью\n",
    "df_pivot = df_uncnown.pivot_table(index=['education', 'income_type'], values='debt', aggfunc='count')\n",
    "\n",
    "df_pivot"
   ]
  },
  {
   "cell_type": "markdown",
   "id": "e0aacf66",
   "metadata": {},
   "source": [
    "*Связи различных параметров респондентов и отсутствием значений нет. Неизвестен статус и средний доход как у людей с высшим, так и начальным образованием, как у пенсионеров так и у госслужащих и др.*"
   ]
  },
  {
   "cell_type": "markdown",
   "id": "a1625684",
   "metadata": {},
   "source": [
    "**Вывод:**\n",
    "Появление пропусков не связано со статусом работников, а вызвано отсутствием данных."
   ]
  },
  {
   "cell_type": "markdown",
   "id": "dfba8280",
   "metadata": {},
   "source": [
    "Заменим все пропущенные значения в столбцах `days_employed` и `total_income` на медианное значение:\n",
    "* медианное значение в данном случае лучше среднего, поскольку более точно отражает средний уровень зарплат и трудового стажа, не реагируя на выколотые слишком большие значения, которые могут быть например у компаньонов."
   ]
  },
  {
   "cell_type": "code",
   "execution_count": 13,
   "id": "0c970dfa",
   "metadata": {
    "scrolled": true
   },
   "outputs": [
    {
     "name": "stdout",
     "output_type": "stream",
     "text": [
      "Медиана в days_employed не изменилась:  True\n",
      "Медиана в total_income не изменилась:  True\n",
      "__________________ \n",
      "\n",
      "<class 'pandas.core.frame.DataFrame'>\n",
      "RangeIndex: 21525 entries, 0 to 21524\n",
      "Data columns (total 12 columns):\n",
      " #   Column            Non-Null Count  Dtype  \n",
      "---  ------            --------------  -----  \n",
      " 0   children          21525 non-null  int64  \n",
      " 1   days_employed     21525 non-null  float64\n",
      " 2   dob_years         21525 non-null  int64  \n",
      " 3   education         21525 non-null  object \n",
      " 4   education_id      21525 non-null  int64  \n",
      " 5   family_status     21525 non-null  object \n",
      " 6   family_status_id  21525 non-null  int64  \n",
      " 7   gender            21525 non-null  object \n",
      " 8   income_type       21525 non-null  object \n",
      " 9   debt              21525 non-null  int64  \n",
      " 10  total_income      21525 non-null  float64\n",
      " 11  purpose           21525 non-null  object \n",
      "dtypes: float64(2), int64(5), object(5)\n",
      "memory usage: 2.0+ MB\n"
     ]
    }
   ],
   "source": [
    "# Что бы избежать падения в случае появления типа 'str', поместим вычисления в структуру try-except\n",
    "try:\n",
    "\n",
    "# вычисляем медиану и заменяем на нее пропуски для двух столбцов\n",
    "    median_days_employed = df['days_employed'].median()\n",
    "    df['days_employed'] = df['days_employed'].fillna(median_days_employed)\n",
    "\n",
    "    median_total_income = df['total_income'].median()\n",
    "    df['total_income'] = df['total_income'].fillna(median_total_income)\n",
    "\n",
    "# Проверим, что медианные значения в этих столбцах не поменялись\n",
    "    print('Медиана в days_employed не изменилась: ', median_days_employed == df['days_employed'].median())\n",
    "    print('Медиана в total_income не изменилась: ', median_total_income == df['total_income'].median())\n",
    "    print('__________________', '\\n')\n",
    "\n",
    "except:\n",
    "    print('Столбец days_employed содержит необрабатываемые значения!')\n",
    "\n",
    "# Проверим, что пропусков не осталось\n",
    "df.info()"
   ]
  },
  {
   "cell_type": "markdown",
   "id": "f74bbe29",
   "metadata": {},
   "source": [
    "**Результат:** *в данных отсутствуют пропуски.*"
   ]
  },
  {
   "cell_type": "markdown",
   "id": "9aed9abf",
   "metadata": {},
   "source": [
    "### Изменение типов данных с `float` на `int`."
   ]
  },
  {
   "cell_type": "markdown",
   "id": "03ce00e5",
   "metadata": {},
   "source": [
    "Изменим тип данных в столбцах `days_employed` и `total_income` на `float`:\n",
    "* такой тип данных больше соответствует смыслу - количество отработаных дней и среднюю зарплату логичнее хранить в целочисленном формате."
   ]
  },
  {
   "cell_type": "code",
   "execution_count": 14,
   "id": "e8c5d282",
   "metadata": {},
   "outputs": [
    {
     "name": "stdout",
     "output_type": "stream",
     "text": [
      "<class 'pandas.core.frame.DataFrame'>\n",
      "RangeIndex: 21525 entries, 0 to 21524\n",
      "Data columns (total 12 columns):\n",
      " #   Column            Non-Null Count  Dtype \n",
      "---  ------            --------------  ----- \n",
      " 0   children          21525 non-null  int64 \n",
      " 1   days_employed     21525 non-null  int32 \n",
      " 2   dob_years         21525 non-null  int64 \n",
      " 3   education         21525 non-null  object\n",
      " 4   education_id      21525 non-null  int64 \n",
      " 5   family_status     21525 non-null  object\n",
      " 6   family_status_id  21525 non-null  int64 \n",
      " 7   gender            21525 non-null  object\n",
      " 8   income_type       21525 non-null  object\n",
      " 9   debt              21525 non-null  int64 \n",
      " 10  total_income      21525 non-null  int32 \n",
      " 11  purpose           21525 non-null  object\n",
      "dtypes: int32(2), int64(5), object(5)\n",
      "memory usage: 1.8+ MB\n"
     ]
    }
   ],
   "source": [
    "# изменение типа\n",
    "df['total_income'] = df['total_income'].astype('int')\n",
    "df['days_employed'] = df['days_employed'].astype('int')\n",
    "\n",
    "# Проверка результата\n",
    "df.info()"
   ]
  },
  {
   "cell_type": "markdown",
   "id": "cc41b8c6",
   "metadata": {},
   "source": [
    "**Результат:** *типы данных приведены к необходимому формату.*"
   ]
  },
  {
   "cell_type": "markdown",
   "id": "7d4d62e3",
   "metadata": {},
   "source": [
    "### Проверка опечаток в категориальных данных."
   ]
  },
  {
   "cell_type": "markdown",
   "id": "2706c738",
   "metadata": {},
   "source": [
    "Кроме очевидных и исправленных ошибок в данных могут быть скрытые дубликаты или опечатки.\n",
    "Найдем их с помощью списка уникальных значений в каждом столбце с типом `str`."
   ]
  },
  {
   "cell_type": "code",
   "execution_count": 15,
   "id": "792064ca",
   "metadata": {},
   "outputs": [
    {
     "data": {
      "text/plain": [
       "Index(['children', 'days_employed', 'dob_years', 'education', 'education_id',\n",
       "       'family_status', 'family_status_id', 'gender', 'income_type', 'debt',\n",
       "       'total_income', 'purpose'],\n",
       "      dtype='object')"
      ]
     },
     "execution_count": 15,
     "metadata": {},
     "output_type": "execute_result"
    }
   ],
   "source": [
    "df.columns"
   ]
  },
  {
   "cell_type": "code",
   "execution_count": 16,
   "id": "3bdc415e",
   "metadata": {},
   "outputs": [
    {
     "name": "stdout",
     "output_type": "stream",
     "text": [
      " 0     14149\n",
      " 1      4818\n",
      " 2      2055\n",
      " 3       330\n",
      " 20       76\n",
      "-1        47\n",
      " 4        41\n",
      " 5         9\n",
      "Name: children, dtype: int64\n",
      "---------------- \n",
      "\n",
      "среднее                15233\n",
      "высшее                  5260\n",
      "неоконченное высшее      744\n",
      "начальное                282\n",
      "ученая степень             6\n",
      "Name: education, dtype: int64\n",
      "---------------- \n",
      "\n",
      "1    15233\n",
      "0     5260\n",
      "2      744\n",
      "3      282\n",
      "4        6\n",
      "Name: education_id, dtype: int64\n",
      "---------------- \n",
      "\n",
      "женат / замужем          12380\n",
      "гражданский брак          4177\n",
      "Не женат / не замужем     2813\n",
      "в разводе                 1195\n",
      "вдовец / вдова             960\n",
      "Name: family_status, dtype: int64\n",
      "---------------- \n",
      "\n",
      "0    12380\n",
      "1     4177\n",
      "4     2813\n",
      "3     1195\n",
      "2      960\n",
      "Name: family_status_id, dtype: int64\n",
      "---------------- \n",
      "\n",
      "F      14236\n",
      "M       7288\n",
      "XNA        1\n",
      "Name: gender, dtype: int64\n",
      "---------------- \n",
      "\n",
      "сотрудник          11119\n",
      "компаньон           5085\n",
      "пенсионер           3856\n",
      "госслужащий         1459\n",
      "безработный            2\n",
      "предприниматель        2\n",
      "студент                1\n",
      "в декрете              1\n",
      "Name: income_type, dtype: int64\n",
      "---------------- \n",
      "\n",
      "0    19784\n",
      "1     1741\n",
      "Name: debt, dtype: int64\n",
      "---------------- \n",
      "\n"
     ]
    }
   ],
   "source": [
    "# для начала выберем только эти столбцы с небольшим количеством вариантов\n",
    "df_columns = ['children', 'education', 'education_id',\n",
    "       'family_status', 'family_status_id', 'gender', 'income_type', 'debt']\n",
    "for col in df_columns:\n",
    "    print(df[col].value_counts())\n",
    "    print('----------------', '\\n')"
   ]
  },
  {
   "cell_type": "markdown",
   "id": "965684d1",
   "metadata": {},
   "source": [
    "**Вывод:** неявные опечатки содержатся в столбцах `children` и `gender`."
   ]
  },
  {
   "cell_type": "markdown",
   "id": "5f8df793",
   "metadata": {},
   "source": [
    "1. Опечатки в столбце `children` - их менее 0,6%.\n",
    "Скорее всего появились из-за ошибок в заполнении данных - возможно, лишний `0` или тире.\n",
    "Поскольку их немного, удалим строки с этими ошибками для того, что бы избежать неверной трактовки."
   ]
  },
  {
   "cell_type": "code",
   "execution_count": 17,
   "id": "b6ccb30e",
   "metadata": {},
   "outputs": [
    {
     "name": "stdout",
     "output_type": "stream",
     "text": [
      "0    14149\n",
      "1     4818\n",
      "2     2055\n",
      "3      330\n",
      "4       41\n",
      "5        9\n",
      "Name: children, dtype: int64\n"
     ]
    },
    {
     "data": {
      "text/plain": [
       "(21402, 12)"
      ]
     },
     "execution_count": 17,
     "metadata": {},
     "output_type": "execute_result"
    }
   ],
   "source": [
    "# Удаление строк с неверным значенийм\n",
    "df = df[df['children'] != 20]\n",
    "df = df[df['children'] != -1]\n",
    "\n",
    "# Проверка результата\n",
    "print(df['children'].value_counts())\n",
    "df.shape"
   ]
  },
  {
   "cell_type": "markdown",
   "id": "b2b29d2b",
   "metadata": {},
   "source": [
    "2. Удалим единственную строку с неизвестным значением в столбце `gender`."
   ]
  },
  {
   "cell_type": "code",
   "execution_count": 18,
   "id": "51d90897",
   "metadata": {},
   "outputs": [
    {
     "name": "stdout",
     "output_type": "stream",
     "text": [
      "F    14154\n",
      "M     7247\n",
      "Name: gender, dtype: int64\n"
     ]
    },
    {
     "data": {
      "text/plain": [
       "(21401, 12)"
      ]
     },
     "execution_count": 18,
     "metadata": {},
     "output_type": "execute_result"
    }
   ],
   "source": [
    "# Удаление строк с неверным значенийм\n",
    "df = df[df['gender'] != 'XNA']\n",
    "\n",
    "# Проверка результата\n",
    "print(df['gender'].value_counts())\n",
    "df.shape"
   ]
  },
  {
   "cell_type": "markdown",
   "id": "ca262fb8",
   "metadata": {},
   "source": [
    "3. Осталось проверить столбец `dob_years`."
   ]
  },
  {
   "cell_type": "code",
   "execution_count": 19,
   "id": "062415a9",
   "metadata": {},
   "outputs": [
    {
     "data": {
      "text/plain": [
       "[0,\n",
       " 19,\n",
       " 20,\n",
       " 21,\n",
       " 22,\n",
       " 23,\n",
       " 24,\n",
       " 25,\n",
       " 26,\n",
       " 27,\n",
       " 28,\n",
       " 29,\n",
       " 30,\n",
       " 31,\n",
       " 32,\n",
       " 33,\n",
       " 34,\n",
       " 35,\n",
       " 36,\n",
       " 37,\n",
       " 38,\n",
       " 39,\n",
       " 40,\n",
       " 41,\n",
       " 42,\n",
       " 43,\n",
       " 44,\n",
       " 45,\n",
       " 46,\n",
       " 47,\n",
       " 48,\n",
       " 49,\n",
       " 50,\n",
       " 51,\n",
       " 52,\n",
       " 53,\n",
       " 54,\n",
       " 55,\n",
       " 56,\n",
       " 57,\n",
       " 58,\n",
       " 59,\n",
       " 60,\n",
       " 61,\n",
       " 62,\n",
       " 63,\n",
       " 64,\n",
       " 65,\n",
       " 66,\n",
       " 67,\n",
       " 68,\n",
       " 69,\n",
       " 70,\n",
       " 71,\n",
       " 72,\n",
       " 73,\n",
       " 74,\n",
       " 75]"
      ]
     },
     "execution_count": 19,
     "metadata": {},
     "output_type": "execute_result"
    }
   ],
   "source": [
    "dob_years_unique = df['dob_years'].unique()\n",
    "sorted(dob_years_unique)\n"
   ]
  },
  {
   "cell_type": "markdown",
   "id": "b141a42e",
   "metadata": {},
   "source": [
    "Очевидно, что значение `0` - отсутствие данных о возрасте. Определим, сколько таких строк."
   ]
  },
  {
   "cell_type": "code",
   "execution_count": 20,
   "id": "49b58daf",
   "metadata": {},
   "outputs": [
    {
     "name": "stdout",
     "output_type": "stream",
     "text": [
      "Количество неизвестных данных в dob_years:  100\n",
      "Процент неизвестных данных в dob_years:  0.47%\n"
     ]
    }
   ],
   "source": [
    "na_dob_years = df['dob_years'][df['dob_years'] == 0].count()\n",
    "print('Количество неизвестных данных в dob_years: ', na_dob_years)\n",
    "print(f'Процент неизвестных данных в dob_years: {(na_dob_years/len(df[\"dob_years\"])): .2%}')"
   ]
  },
  {
   "cell_type": "markdown",
   "id": "3390bf46",
   "metadata": {},
   "source": [
    "Поскольку возраст клиента важен для анализа, а их процент менее 0,5%, удалим данные с проущенными значениями."
   ]
  },
  {
   "cell_type": "code",
   "execution_count": 21,
   "id": "1fdcb305",
   "metadata": {},
   "outputs": [
    {
     "data": {
      "text/plain": [
       "(21301, 12)"
      ]
     },
     "execution_count": 21,
     "metadata": {},
     "output_type": "execute_result"
    }
   ],
   "source": [
    "# Удаление строк с неверным значенийм\n",
    "df = df[df['dob_years'] != 0]\n",
    "\n",
    "# Проверка результата\n",
    "df.shape"
   ]
  },
  {
   "cell_type": "markdown",
   "id": "2f1c719e",
   "metadata": {},
   "source": [
    "**Результат:** *в столбцах с категориальными значениями нет опечаток, скрытых дубликатов и отсутствующих значений.*"
   ]
  },
  {
   "cell_type": "markdown",
   "id": "399ef751",
   "metadata": {},
   "source": [
    "### Обработка строк-дубликатов."
   ]
  },
  {
   "cell_type": "markdown",
   "id": "2b2601ab",
   "metadata": {},
   "source": [
    "Определим с помощью метода `duplicated()` наличие в данных полных дубликатов."
   ]
  },
  {
   "cell_type": "code",
   "execution_count": 22,
   "id": "28a26b96",
   "metadata": {},
   "outputs": [
    {
     "name": "stdout",
     "output_type": "stream",
     "text": [
      "Количество дубликатов: 71\n",
      "Доля дубликатов:  0.33%\n"
     ]
    }
   ],
   "source": [
    "print(f'Количество дубликатов: {df.duplicated().sum()}')\n",
    "print(f'Доля дубликатов: {df.duplicated().sum()/len(df): .2%}')"
   ]
  },
  {
   "cell_type": "markdown",
   "id": "de891c3b",
   "metadata": {},
   "source": [
    "Дубликатов менее 0.5%, поэтому можно удалить лишние строки без потери информации."
   ]
  },
  {
   "cell_type": "markdown",
   "id": "b73f491a",
   "metadata": {},
   "source": [
    "Возможные причины появления дубликатов:\n",
    "* данные о клиентах взяты из разных источников, которые могут частично пересекаться\n",
    "* некоторые клиенты могли завести двойные аккаунты, что приводит к дубликации данных (например, зарегистрироваться в разных регионах)"
   ]
  },
  {
   "cell_type": "code",
   "execution_count": 23,
   "id": "b7b9d7de",
   "metadata": {
    "scrolled": true
   },
   "outputs": [
    {
     "name": "stdout",
     "output_type": "stream",
     "text": [
      "Количество дубликатов: 0\n"
     ]
    },
    {
     "data": {
      "text/plain": [
       "(21230, 12)"
      ]
     },
     "execution_count": 23,
     "metadata": {},
     "output_type": "execute_result"
    }
   ],
   "source": [
    "# Удалим дубликаты и восстановим индексацию в данных\n",
    "df = df.drop_duplicates().reset_index(drop=True)\n",
    "\n",
    "# Проверим, что получилось\n",
    "print(f'Количество дубликатов: {df.duplicated().sum()}')\n",
    "df.shape"
   ]
  },
  {
   "cell_type": "markdown",
   "id": "18dfa8f7",
   "metadata": {},
   "source": [
    "**Результат:** *в таблице не осталось строк-дубликатов.*"
   ]
  },
  {
   "cell_type": "markdown",
   "id": "2fc80ca3",
   "metadata": {},
   "source": [
    "### Создание \"словарей\" категориальных данных."
   ]
  },
  {
   "cell_type": "code",
   "execution_count": 24,
   "id": "1a1ba5ad",
   "metadata": {},
   "outputs": [
    {
     "data": {
      "text/plain": [
       "Index(['children', 'days_employed', 'dob_years', 'education', 'education_id',\n",
       "       'family_status', 'family_status_id', 'gender', 'income_type', 'debt',\n",
       "       'total_income', 'purpose'],\n",
       "      dtype='object')"
      ]
     },
     "execution_count": 24,
     "metadata": {},
     "output_type": "execute_result"
    }
   ],
   "source": [
    "df.columns"
   ]
  },
  {
   "cell_type": "markdown",
   "id": "c39dd5e4",
   "metadata": {},
   "source": [
    "Столбцы `education`, `education_id` и `family_status`, `family_status_id` содержат повторяющуюся информацию. Для удобства работы с категориями в основном датафрейме, удалим словестное описание категорий, создав два \"словаря\" для них."
   ]
  },
  {
   "cell_type": "code",
   "execution_count": 25,
   "id": "c90fefd0",
   "metadata": {},
   "outputs": [
    {
     "data": {
      "text/html": [
       "<div>\n",
       "<style scoped>\n",
       "    .dataframe tbody tr th:only-of-type {\n",
       "        vertical-align: middle;\n",
       "    }\n",
       "\n",
       "    .dataframe tbody tr th {\n",
       "        vertical-align: top;\n",
       "    }\n",
       "\n",
       "    .dataframe thead th {\n",
       "        text-align: right;\n",
       "    }\n",
       "</style>\n",
       "<table border=\"1\" class=\"dataframe\">\n",
       "  <thead>\n",
       "    <tr style=\"text-align: right;\">\n",
       "      <th></th>\n",
       "      <th>education</th>\n",
       "      <th>education_id</th>\n",
       "    </tr>\n",
       "  </thead>\n",
       "  <tbody>\n",
       "    <tr>\n",
       "      <th>0</th>\n",
       "      <td>высшее</td>\n",
       "      <td>0</td>\n",
       "    </tr>\n",
       "    <tr>\n",
       "      <th>1</th>\n",
       "      <td>среднее</td>\n",
       "      <td>1</td>\n",
       "    </tr>\n",
       "    <tr>\n",
       "      <th>2</th>\n",
       "      <td>неоконченное высшее</td>\n",
       "      <td>2</td>\n",
       "    </tr>\n",
       "    <tr>\n",
       "      <th>3</th>\n",
       "      <td>начальное</td>\n",
       "      <td>3</td>\n",
       "    </tr>\n",
       "    <tr>\n",
       "      <th>4</th>\n",
       "      <td>ученая степень</td>\n",
       "      <td>4</td>\n",
       "    </tr>\n",
       "  </tbody>\n",
       "</table>\n",
       "</div>"
      ],
      "text/plain": [
       "             education  education_id\n",
       "0               высшее             0\n",
       "1              среднее             1\n",
       "2  неоконченное высшее             2\n",
       "3            начальное             3\n",
       "4       ученая степень             4"
      ]
     },
     "execution_count": 25,
     "metadata": {},
     "output_type": "execute_result"
    }
   ],
   "source": [
    "# educational_dict - \"словарь\" с описанием уровня образования\n",
    "educational_dict = df[['education', 'education_id']]\n",
    "\n",
    "# удалим из educational_dict дубликаты, обновим индексы\n",
    "educational_dict = educational_dict.drop_duplicates().reset_index(drop=True)\n",
    "educational_dict"
   ]
  },
  {
   "cell_type": "code",
   "execution_count": 26,
   "id": "26601b36",
   "metadata": {},
   "outputs": [
    {
     "data": {
      "text/html": [
       "<div>\n",
       "<style scoped>\n",
       "    .dataframe tbody tr th:only-of-type {\n",
       "        vertical-align: middle;\n",
       "    }\n",
       "\n",
       "    .dataframe tbody tr th {\n",
       "        vertical-align: top;\n",
       "    }\n",
       "\n",
       "    .dataframe thead th {\n",
       "        text-align: right;\n",
       "    }\n",
       "</style>\n",
       "<table border=\"1\" class=\"dataframe\">\n",
       "  <thead>\n",
       "    <tr style=\"text-align: right;\">\n",
       "      <th></th>\n",
       "      <th>family_status</th>\n",
       "      <th>family_status_id</th>\n",
       "    </tr>\n",
       "  </thead>\n",
       "  <tbody>\n",
       "    <tr>\n",
       "      <th>0</th>\n",
       "      <td>женат / замужем</td>\n",
       "      <td>0</td>\n",
       "    </tr>\n",
       "    <tr>\n",
       "      <th>1</th>\n",
       "      <td>гражданский брак</td>\n",
       "      <td>1</td>\n",
       "    </tr>\n",
       "    <tr>\n",
       "      <th>2</th>\n",
       "      <td>вдовец / вдова</td>\n",
       "      <td>2</td>\n",
       "    </tr>\n",
       "    <tr>\n",
       "      <th>3</th>\n",
       "      <td>в разводе</td>\n",
       "      <td>3</td>\n",
       "    </tr>\n",
       "    <tr>\n",
       "      <th>4</th>\n",
       "      <td>Не женат / не замужем</td>\n",
       "      <td>4</td>\n",
       "    </tr>\n",
       "  </tbody>\n",
       "</table>\n",
       "</div>"
      ],
      "text/plain": [
       "           family_status  family_status_id\n",
       "0        женат / замужем                 0\n",
       "1       гражданский брак                 1\n",
       "2         вдовец / вдова                 2\n",
       "3              в разводе                 3\n",
       "4  Не женат / не замужем                 4"
      ]
     },
     "execution_count": 26,
     "metadata": {},
     "output_type": "execute_result"
    }
   ],
   "source": [
    "# family_status_dict - \"словарь\" с описанием уровня образования\n",
    "family_status_dict = df[['family_status', 'family_status_id']]\n",
    "\n",
    "# удалим из family_status_dict дубликаты, обновим индексы\n",
    "family_status_dict = family_status_dict.drop_duplicates().reset_index(drop=True)\n",
    "family_status_dict"
   ]
  },
  {
   "cell_type": "markdown",
   "id": "68171bc3",
   "metadata": {},
   "source": [
    "Теперь можно удалить из исходного датасета лишние столбцы"
   ]
  },
  {
   "cell_type": "code",
   "execution_count": 27,
   "id": "f48551dd",
   "metadata": {},
   "outputs": [
    {
     "name": "stdout",
     "output_type": "stream",
     "text": [
      "<class 'pandas.core.frame.DataFrame'>\n",
      "RangeIndex: 21230 entries, 0 to 21229\n",
      "Data columns (total 10 columns):\n",
      " #   Column            Non-Null Count  Dtype \n",
      "---  ------            --------------  ----- \n",
      " 0   children          21230 non-null  int64 \n",
      " 1   days_employed     21230 non-null  int32 \n",
      " 2   dob_years         21230 non-null  int64 \n",
      " 3   education_id      21230 non-null  int64 \n",
      " 4   family_status_id  21230 non-null  int64 \n",
      " 5   gender            21230 non-null  object\n",
      " 6   income_type       21230 non-null  object\n",
      " 7   debt              21230 non-null  int64 \n",
      " 8   total_income      21230 non-null  int32 \n",
      " 9   purpose           21230 non-null  object\n",
      "dtypes: int32(2), int64(5), object(3)\n",
      "memory usage: 1.5+ MB\n"
     ]
    }
   ],
   "source": [
    "df = df[['children', 'days_employed', 'dob_years', 'education_id',\n",
    "       'family_status_id', 'gender', 'income_type', 'debt',\n",
    "       'total_income', 'purpose']]\n",
    "df.info()"
   ]
  },
  {
   "cell_type": "markdown",
   "id": "b075ad3c",
   "metadata": {},
   "source": [
    "**Результат:**\n",
    "* *В датафрейме `df` не осталось описаний категориальных данных.*\n",
    "* *Датафрейм `family_status_dict` - \"словарь\" для семейного положения.*\n",
    "* *Датафрейм `educational_dict` - \"словарь\" для уровня образования.*"
   ]
  },
  {
   "cell_type": "markdown",
   "id": "1322cd26",
   "metadata": {},
   "source": [
    "### Категоризация ежемесячного дохода."
   ]
  },
  {
   "cell_type": "markdown",
   "id": "0f0398ed",
   "metadata": {},
   "source": [
    "Для анализа связи уровня дохода с возвратом кредита, создадим категории уровня ежемесячного дохода:\n",
    "* 0–30000 — `E`\n",
    "* 30001–50000 — `D`\n",
    "* 50001–200000 — `C`\n",
    "* 200001–1000000 — `B`\n",
    "* больше 1000000 — `A`"
   ]
  },
  {
   "cell_type": "markdown",
   "id": "852c663a",
   "metadata": {},
   "source": [
    "Для выполнения задачи создадим функцию, присваивающую категорию в зависимости от дохода, после чего применим ее к столбцу `total_income`."
   ]
  },
  {
   "cell_type": "code",
   "execution_count": 28,
   "id": "8568fa22",
   "metadata": {},
   "outputs": [],
   "source": [
    "def income_category_func(income):\n",
    "    \"\"\" Функция принимает доход и возвращает категорию по следующему закону:\n",
    "    0–30000 — `E`\n",
    "    30001–50000 — `D`\n",
    "    50001–200000 — `C`\n",
    "    200001–1000000 — `B`\n",
    "    больше 1000000 — `A`\n",
    "    \n",
    "    \n",
    "    Что бы избежать падения функции в случае передачи ей значения типа `str`, поместим все в try-except\"\"\"\n",
    "    \n",
    "    try:\n",
    "        if income > 1000000:\n",
    "            return 'A'\n",
    "        elif income > 200000:\n",
    "            return 'B'\n",
    "        elif income > 50000:\n",
    "            return 'C'\n",
    "        elif income > 30000:\n",
    "            return 'D'\n",
    "        elif income > 0:\n",
    "            return 'E'\n",
    "        else:\n",
    "            return f'Ошибка данных, знечение дохода: {income}'\n",
    "    except:\n",
    "        return 'Ошибка данных, доход не типа \"int\" или \"float\"'"
   ]
  },
  {
   "cell_type": "code",
   "execution_count": 29,
   "id": "f7f41f5a",
   "metadata": {},
   "outputs": [
    {
     "name": "stdout",
     "output_type": "stream",
     "text": [
      "A\n",
      "C\n",
      "E\n",
      "Ошибка данных, знечение дохода: -10000000000\n",
      "Ошибка данных, доход не типа \"int\" или \"float\"\n"
     ]
    }
   ],
   "source": [
    "# Проверим работоспособность функции income_category\n",
    "print(income_category_func(10**10))\n",
    "print(income_category_func(10**5))\n",
    "print(income_category_func(10**2))\n",
    "print(income_category_func(-10**10))\n",
    "print(income_category_func('10**10'))"
   ]
  },
  {
   "cell_type": "code",
   "execution_count": 30,
   "id": "57106d39",
   "metadata": {},
   "outputs": [
    {
     "data": {
      "text/html": [
       "<div>\n",
       "<style scoped>\n",
       "    .dataframe tbody tr th:only-of-type {\n",
       "        vertical-align: middle;\n",
       "    }\n",
       "\n",
       "    .dataframe tbody tr th {\n",
       "        vertical-align: top;\n",
       "    }\n",
       "\n",
       "    .dataframe thead th {\n",
       "        text-align: right;\n",
       "    }\n",
       "</style>\n",
       "<table border=\"1\" class=\"dataframe\">\n",
       "  <thead>\n",
       "    <tr style=\"text-align: right;\">\n",
       "      <th></th>\n",
       "      <th>children</th>\n",
       "      <th>days_employed</th>\n",
       "      <th>dob_years</th>\n",
       "      <th>education_id</th>\n",
       "      <th>family_status_id</th>\n",
       "      <th>gender</th>\n",
       "      <th>income_type</th>\n",
       "      <th>debt</th>\n",
       "      <th>total_income</th>\n",
       "      <th>purpose</th>\n",
       "      <th>total_income_category</th>\n",
       "    </tr>\n",
       "  </thead>\n",
       "  <tbody>\n",
       "    <tr>\n",
       "      <th>0</th>\n",
       "      <td>1</td>\n",
       "      <td>8437</td>\n",
       "      <td>42</td>\n",
       "      <td>0</td>\n",
       "      <td>0</td>\n",
       "      <td>F</td>\n",
       "      <td>сотрудник</td>\n",
       "      <td>0</td>\n",
       "      <td>253875</td>\n",
       "      <td>покупка жилья</td>\n",
       "      <td>B</td>\n",
       "    </tr>\n",
       "    <tr>\n",
       "      <th>1</th>\n",
       "      <td>1</td>\n",
       "      <td>4024</td>\n",
       "      <td>36</td>\n",
       "      <td>1</td>\n",
       "      <td>0</td>\n",
       "      <td>F</td>\n",
       "      <td>сотрудник</td>\n",
       "      <td>0</td>\n",
       "      <td>112080</td>\n",
       "      <td>приобретение автомобиля</td>\n",
       "      <td>C</td>\n",
       "    </tr>\n",
       "    <tr>\n",
       "      <th>2</th>\n",
       "      <td>0</td>\n",
       "      <td>5623</td>\n",
       "      <td>33</td>\n",
       "      <td>1</td>\n",
       "      <td>0</td>\n",
       "      <td>M</td>\n",
       "      <td>сотрудник</td>\n",
       "      <td>0</td>\n",
       "      <td>145885</td>\n",
       "      <td>покупка жилья</td>\n",
       "      <td>C</td>\n",
       "    </tr>\n",
       "    <tr>\n",
       "      <th>3</th>\n",
       "      <td>3</td>\n",
       "      <td>4124</td>\n",
       "      <td>32</td>\n",
       "      <td>1</td>\n",
       "      <td>0</td>\n",
       "      <td>M</td>\n",
       "      <td>сотрудник</td>\n",
       "      <td>0</td>\n",
       "      <td>267628</td>\n",
       "      <td>дополнительное образование</td>\n",
       "      <td>B</td>\n",
       "    </tr>\n",
       "    <tr>\n",
       "      <th>4</th>\n",
       "      <td>0</td>\n",
       "      <td>340266</td>\n",
       "      <td>53</td>\n",
       "      <td>1</td>\n",
       "      <td>1</td>\n",
       "      <td>F</td>\n",
       "      <td>пенсионер</td>\n",
       "      <td>0</td>\n",
       "      <td>158616</td>\n",
       "      <td>сыграть свадьбу</td>\n",
       "      <td>C</td>\n",
       "    </tr>\n",
       "  </tbody>\n",
       "</table>\n",
       "</div>"
      ],
      "text/plain": [
       "   children  days_employed  dob_years  education_id  family_status_id gender  \\\n",
       "0         1           8437         42             0                 0      F   \n",
       "1         1           4024         36             1                 0      F   \n",
       "2         0           5623         33             1                 0      M   \n",
       "3         3           4124         32             1                 0      M   \n",
       "4         0         340266         53             1                 1      F   \n",
       "\n",
       "  income_type  debt  total_income                     purpose  \\\n",
       "0   сотрудник     0        253875               покупка жилья   \n",
       "1   сотрудник     0        112080     приобретение автомобиля   \n",
       "2   сотрудник     0        145885               покупка жилья   \n",
       "3   сотрудник     0        267628  дополнительное образование   \n",
       "4   пенсионер     0        158616             сыграть свадьбу   \n",
       "\n",
       "  total_income_category  \n",
       "0                     B  \n",
       "1                     C  \n",
       "2                     C  \n",
       "3                     B  \n",
       "4                     C  "
      ]
     },
     "execution_count": 30,
     "metadata": {},
     "output_type": "execute_result"
    }
   ],
   "source": [
    "# Теперь применим функцию к столбцу total_income\n",
    "df['total_income_category'] = df['total_income'].apply(income_category_func)\n",
    "df.head()"
   ]
  },
  {
   "cell_type": "markdown",
   "id": "6e1b7798",
   "metadata": {},
   "source": [
    "Узнаем, какие категории и в каком количестве присутствуют в таблице"
   ]
  },
  {
   "cell_type": "code",
   "execution_count": 31,
   "id": "dd374355",
   "metadata": {
    "scrolled": false
   },
   "outputs": [
    {
     "data": {
      "text/plain": [
       "C    15850\n",
       "B     4986\n",
       "D      347\n",
       "A       25\n",
       "E       22\n",
       "Name: total_income_category, dtype: int64"
      ]
     },
     "execution_count": 31,
     "metadata": {},
     "output_type": "execute_result"
    }
   ],
   "source": [
    "df['total_income_category'].value_counts()"
   ]
  },
  {
   "cell_type": "markdown",
   "id": "a96b0573",
   "metadata": {},
   "source": [
    "Все доходы обработаны в категории, ошибок нет."
   ]
  },
  {
   "cell_type": "markdown",
   "id": "3ace03ed",
   "metadata": {},
   "source": [
    "**Результат:** *в основном датафрейме создан новый столбец `total_income_category`, описывающий категорию уровня ежемесячного дохода клиентов.*"
   ]
  },
  {
   "cell_type": "markdown",
   "id": "8616862d",
   "metadata": {},
   "source": [
    "### Категоризация цели кредита."
   ]
  },
  {
   "cell_type": "markdown",
   "id": "b31d2450",
   "metadata": {},
   "source": [
    "**Цель:**\n",
    "Создать категории для целей кредита:\n",
    "* 'операции с автомобилем'\n",
    "* 'операции с недвижимостью'\n",
    "* 'проведение свадьбы'\n",
    "* 'получение образования'"
   ]
  },
  {
   "cell_type": "markdown",
   "id": "6aeb8e80",
   "metadata": {},
   "source": [
    "Для начала определим, какие варианты встречаются в столбце `purpose`."
   ]
  },
  {
   "cell_type": "code",
   "execution_count": 32,
   "id": "ec5498b4",
   "metadata": {},
   "outputs": [
    {
     "data": {
      "text/plain": [
       "свадьба                                   785\n",
       "на проведение свадьбы                     759\n",
       "сыграть свадьбу                           755\n",
       "операции с недвижимостью                  669\n",
       "покупка коммерческой недвижимости         655\n",
       "покупка жилья для сдачи                   647\n",
       "операции с коммерческой недвижимостью     643\n",
       "операции с жильем                         641\n",
       "покупка жилья для семьи                   636\n",
       "жилье                                     635\n",
       "покупка жилья                             634\n",
       "недвижимость                              627\n",
       "строительство собственной недвижимости    626\n",
       "операции со своей недвижимостью           623\n",
       "строительство недвижимости                619\n",
       "покупка своего жилья                      618\n",
       "строительство жилой недвижимости          617\n",
       "покупка недвижимости                      612\n",
       "ремонт жилью                              602\n",
       "покупка жилой недвижимости                599\n",
       "на покупку своего автомобиля              501\n",
       "заняться высшим образованием              493\n",
       "автомобиль                                487\n",
       "сделка с подержанным автомобилем          479\n",
       "автомобили                                474\n",
       "на покупку подержанного автомобиля        471\n",
       "свой автомобиль                           470\n",
       "на покупку автомобиля                     465\n",
       "приобретение автомобиля                   457\n",
       "сделка с автомобилем                      454\n",
       "дополнительное образование                453\n",
       "высшее образование                        443\n",
       "получение дополнительного образования     442\n",
       "получение образования                     439\n",
       "образование                               439\n",
       "профильное образование                    431\n",
       "получение высшего образования             423\n",
       "заняться образованием                     407\n",
       "Name: purpose, dtype: int64"
      ]
     },
     "execution_count": 32,
     "metadata": {},
     "output_type": "execute_result"
    }
   ],
   "source": [
    "df['purpose'].value_counts()"
   ]
  },
  {
   "cell_type": "markdown",
   "id": "771687be",
   "metadata": {},
   "source": [
    "1. Для \"операции с автомобилем\" ключевая часть слова \"автомобил\"\n",
    "2. Для \"операции с недвижимостью\" ключевая часть слова \"жиль\" и \"недвижимост\"\n",
    "3. Для \"получение образования\" ключевая часть слова \"образован\"\n",
    "4. Для \"проведение свадьбы\" ключевая часть слова \"свадьб\""
   ]
  },
  {
   "cell_type": "markdown",
   "id": "80140ce1",
   "metadata": {},
   "source": [
    "Создадим функцию, которая по строке из столбца `purpose` выдаст одну из нужных категорий."
   ]
  },
  {
   "cell_type": "code",
   "execution_count": 33,
   "id": "31f04808",
   "metadata": {},
   "outputs": [],
   "source": [
    "def purpose_category_func(client_purpose):\n",
    "    \"\"\" Функция принимает строку с целью кредита и по ключевым словам возвращает одну из 4-х категорий:\n",
    "    1. Для \"операции с автомобилем\" ключевая часть слова \"автомобил\"\n",
    "    2. Для \"операции с недвижимостью\" ключевая часть слова \"жиль\" и \"недвижимост\"\n",
    "    3. Для \"получение образования\" ключевая часть слова \"образован\"\n",
    "    4. Для \"проведение свадьбы\" ключевая часть слова \"свадьб\"\n",
    "    \n",
    "    \n",
    "    \"\"\"\n",
    "    try:\n",
    "        if ('автомобил' in client_purpose):\n",
    "            return 'операции с автомобилем'\n",
    "        elif ('образован' in client_purpose):\n",
    "            return 'получение образования'\n",
    "        elif ('свадьб' in client_purpose):\n",
    "            return 'проведение свадьбы'\n",
    "        elif ('жиль' in client_purpose or 'недвижимост' in client_purpose):\n",
    "            return 'операции с недвижимостью'\n",
    "        else:\n",
    "            return f'Неизвестная цель: \"{client_purpose}\"'\n",
    "    except:\n",
    "        return 'Ошибка данных, доход не типа \"str\"'"
   ]
  },
  {
   "cell_type": "markdown",
   "id": "c77a5d31",
   "metadata": {},
   "source": [
    "Проверим работу функции:"
   ]
  },
  {
   "cell_type": "code",
   "execution_count": 34,
   "id": "31d8749d",
   "metadata": {
    "scrolled": false
   },
   "outputs": [
    {
     "name": "stdout",
     "output_type": "stream",
     "text": [
      "Неизвестная цель: \"Для личных целей\"\n",
      "операции с автомобилем\n",
      "получение образования\n",
      "проведение свадьбы\n",
      "операции с недвижимостью\n",
      "Ошибка данных, доход не типа \"str\"\n"
     ]
    }
   ],
   "source": [
    "print(purpose_category_func('Для личных целей'))\n",
    "print(purpose_category_func('свой автомобиль'))\n",
    "print(purpose_category_func('заняться высшим образованием'))\n",
    "print(purpose_category_func('на проведение свадьбы'))\n",
    "print(purpose_category_func('ремонт жилью'))\n",
    "print(purpose_category_func(98))"
   ]
  },
  {
   "cell_type": "markdown",
   "id": "fdf008c8",
   "metadata": {},
   "source": [
    "Применим функцию категоризации к столбцу `purpose`, создав новый столбец `purpose_category`."
   ]
  },
  {
   "cell_type": "code",
   "execution_count": 35,
   "id": "55dd4cf2",
   "metadata": {},
   "outputs": [
    {
     "data": {
      "text/html": [
       "<div>\n",
       "<style scoped>\n",
       "    .dataframe tbody tr th:only-of-type {\n",
       "        vertical-align: middle;\n",
       "    }\n",
       "\n",
       "    .dataframe tbody tr th {\n",
       "        vertical-align: top;\n",
       "    }\n",
       "\n",
       "    .dataframe thead th {\n",
       "        text-align: right;\n",
       "    }\n",
       "</style>\n",
       "<table border=\"1\" class=\"dataframe\">\n",
       "  <thead>\n",
       "    <tr style=\"text-align: right;\">\n",
       "      <th></th>\n",
       "      <th>children</th>\n",
       "      <th>days_employed</th>\n",
       "      <th>dob_years</th>\n",
       "      <th>education_id</th>\n",
       "      <th>family_status_id</th>\n",
       "      <th>gender</th>\n",
       "      <th>income_type</th>\n",
       "      <th>debt</th>\n",
       "      <th>total_income</th>\n",
       "      <th>purpose</th>\n",
       "      <th>total_income_category</th>\n",
       "      <th>purpose_category</th>\n",
       "    </tr>\n",
       "  </thead>\n",
       "  <tbody>\n",
       "    <tr>\n",
       "      <th>0</th>\n",
       "      <td>1</td>\n",
       "      <td>8437</td>\n",
       "      <td>42</td>\n",
       "      <td>0</td>\n",
       "      <td>0</td>\n",
       "      <td>F</td>\n",
       "      <td>сотрудник</td>\n",
       "      <td>0</td>\n",
       "      <td>253875</td>\n",
       "      <td>покупка жилья</td>\n",
       "      <td>B</td>\n",
       "      <td>операции с недвижимостью</td>\n",
       "    </tr>\n",
       "    <tr>\n",
       "      <th>1</th>\n",
       "      <td>1</td>\n",
       "      <td>4024</td>\n",
       "      <td>36</td>\n",
       "      <td>1</td>\n",
       "      <td>0</td>\n",
       "      <td>F</td>\n",
       "      <td>сотрудник</td>\n",
       "      <td>0</td>\n",
       "      <td>112080</td>\n",
       "      <td>приобретение автомобиля</td>\n",
       "      <td>C</td>\n",
       "      <td>операции с автомобилем</td>\n",
       "    </tr>\n",
       "    <tr>\n",
       "      <th>2</th>\n",
       "      <td>0</td>\n",
       "      <td>5623</td>\n",
       "      <td>33</td>\n",
       "      <td>1</td>\n",
       "      <td>0</td>\n",
       "      <td>M</td>\n",
       "      <td>сотрудник</td>\n",
       "      <td>0</td>\n",
       "      <td>145885</td>\n",
       "      <td>покупка жилья</td>\n",
       "      <td>C</td>\n",
       "      <td>операции с недвижимостью</td>\n",
       "    </tr>\n",
       "    <tr>\n",
       "      <th>3</th>\n",
       "      <td>3</td>\n",
       "      <td>4124</td>\n",
       "      <td>32</td>\n",
       "      <td>1</td>\n",
       "      <td>0</td>\n",
       "      <td>M</td>\n",
       "      <td>сотрудник</td>\n",
       "      <td>0</td>\n",
       "      <td>267628</td>\n",
       "      <td>дополнительное образование</td>\n",
       "      <td>B</td>\n",
       "      <td>получение образования</td>\n",
       "    </tr>\n",
       "    <tr>\n",
       "      <th>4</th>\n",
       "      <td>0</td>\n",
       "      <td>340266</td>\n",
       "      <td>53</td>\n",
       "      <td>1</td>\n",
       "      <td>1</td>\n",
       "      <td>F</td>\n",
       "      <td>пенсионер</td>\n",
       "      <td>0</td>\n",
       "      <td>158616</td>\n",
       "      <td>сыграть свадьбу</td>\n",
       "      <td>C</td>\n",
       "      <td>проведение свадьбы</td>\n",
       "    </tr>\n",
       "  </tbody>\n",
       "</table>\n",
       "</div>"
      ],
      "text/plain": [
       "   children  days_employed  dob_years  education_id  family_status_id gender  \\\n",
       "0         1           8437         42             0                 0      F   \n",
       "1         1           4024         36             1                 0      F   \n",
       "2         0           5623         33             1                 0      M   \n",
       "3         3           4124         32             1                 0      M   \n",
       "4         0         340266         53             1                 1      F   \n",
       "\n",
       "  income_type  debt  total_income                     purpose  \\\n",
       "0   сотрудник     0        253875               покупка жилья   \n",
       "1   сотрудник     0        112080     приобретение автомобиля   \n",
       "2   сотрудник     0        145885               покупка жилья   \n",
       "3   сотрудник     0        267628  дополнительное образование   \n",
       "4   пенсионер     0        158616             сыграть свадьбу   \n",
       "\n",
       "  total_income_category          purpose_category  \n",
       "0                     B  операции с недвижимостью  \n",
       "1                     C    операции с автомобилем  \n",
       "2                     C  операции с недвижимостью  \n",
       "3                     B     получение образования  \n",
       "4                     C        проведение свадьбы  "
      ]
     },
     "execution_count": 35,
     "metadata": {},
     "output_type": "execute_result"
    }
   ],
   "source": [
    "# Теперь применим функцию к столбцу purpose\n",
    "df['purpose_category'] = df['purpose'].apply(purpose_category_func)\n",
    "df.head()"
   ]
  },
  {
   "cell_type": "markdown",
   "id": "c73830c5",
   "metadata": {},
   "source": [
    "Узнаем, какие категории и в каком количестве присутствуют в таблице"
   ]
  },
  {
   "cell_type": "code",
   "execution_count": 36,
   "id": "610905da",
   "metadata": {
    "scrolled": false
   },
   "outputs": [
    {
     "data": {
      "text/plain": [
       "операции с недвижимостью    10703\n",
       "операции с автомобилем       4258\n",
       "получение образования        3970\n",
       "проведение свадьбы           2299\n",
       "Name: purpose_category, dtype: int64"
      ]
     },
     "execution_count": 36,
     "metadata": {},
     "output_type": "execute_result"
    }
   ],
   "source": [
    "df['purpose_category'].value_counts()"
   ]
  },
  {
   "cell_type": "markdown",
   "id": "69930af8",
   "metadata": {},
   "source": [
    "Все цели обработаны в категории, ошибок нет."
   ]
  },
  {
   "cell_type": "markdown",
   "id": "82990145",
   "metadata": {},
   "source": [
    "**Результат:** *в основном датафрейме создан новый столбец `purpose_category`, описывающий категорию целей кредита клиентов.*"
   ]
  },
  {
   "cell_type": "markdown",
   "id": "f6d9cb83",
   "metadata": {},
   "source": [
    "### Вывод по шагу 2.\n",
    "\n",
    "*Завершена предобработка данных.*\n",
    "\n",
    "**Что исправлено:**\n",
    "\n",
    "1. Полученая таблица больше не содержит аномальных и отрицательных значений.\n",
    "2. Полученая таблица больше не содержит явных и скрытых дубликатов.\n",
    "3. В данных отсутствуют пропуски.\n",
    "4. Типы данных приведены к необходимому формату.\n",
    "5. В основном датафрейме создан новый столбец `total_income_category`, описывающий категорию уровня ежемесячного дохода клиентов.\n",
    "6. В основном датафрейме создан новый столбец `purpose_category`, описывающий категорию целей кредита клиентов.\n",
    "7. В датафрейме `df` не осталось описаний категориальных данных. Датафрейм `family_status_dict` - \"словарь\" для семейного положения. Датафрейм `educational_dict` - \"словарь\" для уровня образования."
   ]
  },
  {
   "cell_type": "markdown",
   "id": "3cc06195",
   "metadata": {},
   "source": [
    "## Ответы на вопросы"
   ]
  },
  {
   "cell_type": "markdown",
   "id": "fe7a4bdc",
   "metadata": {},
   "source": [
    "### Предварительный анализ данных по возврату кредита"
   ]
  },
  {
   "cell_type": "markdown",
   "id": "d25be57e",
   "metadata": {},
   "source": [
    "Посчитаем, сколько и какой процент клиентов имели задолжность по кредиту?"
   ]
  },
  {
   "cell_type": "code",
   "execution_count": 37,
   "id": "e5fa63d2",
   "metadata": {},
   "outputs": [
    {
     "name": "stdout",
     "output_type": "stream",
     "text": [
      "Всего клиентов, имевших задолжность 1724\n"
     ]
    },
    {
     "data": {
      "text/plain": [
       "'Что составляет  8.1%'"
      ]
     },
     "execution_count": 37,
     "metadata": {},
     "output_type": "execute_result"
    }
   ],
   "source": [
    "print(f'Всего клиентов, имевших задолжность {df[\"debt\"].sum()}')\n",
    "f'Что составляет {df[\"debt\"].sum()/len(df[\"debt\"]): .1%}'"
   ]
  },
  {
   "cell_type": "markdown",
   "id": "1dac898b",
   "metadata": {},
   "source": [
    "**Важно обратить внимание**, что всего данных о клиентах с задолжностью немного, поэтому при анализе дробление на слишком много случаев может привести к искажению статистической информации."
   ]
  },
  {
   "cell_type": "markdown",
   "id": "46e2f915",
   "metadata": {},
   "source": [
    "**Разделение по полу:** поскольку будет провеен анализ связи социальных параметров и кредитоспособности, важно учитывать пол клиентов, поскольку он во многом может влиять на количество детей, стаж и доход."
   ]
  },
  {
   "cell_type": "markdown",
   "id": "03cb7980",
   "metadata": {},
   "source": [
    "Сделаем сводную таблицу по связи возвратов кредита и полом."
   ]
  },
  {
   "cell_type": "code",
   "execution_count": 38,
   "id": "0560b9ec",
   "metadata": {
    "scrolled": true
   },
   "outputs": [
    {
     "data": {
      "text/html": [
       "<div>\n",
       "<style scoped>\n",
       "    .dataframe tbody tr th:only-of-type {\n",
       "        vertical-align: middle;\n",
       "    }\n",
       "\n",
       "    .dataframe tbody tr th {\n",
       "        vertical-align: top;\n",
       "    }\n",
       "\n",
       "    .dataframe thead th {\n",
       "        text-align: right;\n",
       "    }\n",
       "</style>\n",
       "<table border=\"1\" class=\"dataframe\">\n",
       "  <thead>\n",
       "    <tr style=\"text-align: right;\">\n",
       "      <th>debt</th>\n",
       "      <th>0</th>\n",
       "      <th>1</th>\n",
       "      <th>0-percent</th>\n",
       "      <th>1-percent</th>\n",
       "    </tr>\n",
       "    <tr>\n",
       "      <th>gender</th>\n",
       "      <th></th>\n",
       "      <th></th>\n",
       "      <th></th>\n",
       "      <th></th>\n",
       "    </tr>\n",
       "  </thead>\n",
       "  <tbody>\n",
       "    <tr>\n",
       "      <th>F</th>\n",
       "      <td>13037</td>\n",
       "      <td>984</td>\n",
       "      <td>61.4</td>\n",
       "      <td>4.6</td>\n",
       "    </tr>\n",
       "    <tr>\n",
       "      <th>M</th>\n",
       "      <td>6469</td>\n",
       "      <td>740</td>\n",
       "      <td>30.5</td>\n",
       "      <td>3.5</td>\n",
       "    </tr>\n",
       "  </tbody>\n",
       "</table>\n",
       "</div>"
      ],
      "text/plain": [
       "debt        0    1  0-percent  1-percent\n",
       "gender                                  \n",
       "F       13037  984       61.4        4.6\n",
       "M        6469  740       30.5        3.5"
      ]
     },
     "execution_count": 38,
     "metadata": {},
     "output_type": "execute_result"
    }
   ],
   "source": [
    "# Создадим сводную таблицу\n",
    "gender_pivot = df.pivot_table(index='gender', columns='debt', values='days_employed', aggfunc='count')\n",
    "\n",
    "# Добавим два столбца с процентами вернувших и невернувших кредит от всех клиентов\n",
    "gender_pivot['0-percent'] = round(gender_pivot[0]/len(df)*100, 1)\n",
    "gender_pivot['1-percent'] = round(gender_pivot[1]/len(df)*100, 1)\n",
    "\n",
    "gender_pivot"
   ]
  },
  {
   "cell_type": "markdown",
   "id": "e1179260",
   "metadata": {},
   "source": [
    "**Результат:**\n",
    "* *В имеющихся данных женщин в два раза больше, чем мужщин*\n",
    "* *В абсолютных величинах число клиентов с просроченными платежами небольшое - необходимо учитывать при дроблении на подгруппы*\n",
    "* *Мужчины несколько чаще задерживают выплаты*\n",
    "* *Доля просроченных платяжей невелика*"
   ]
  },
  {
   "cell_type": "markdown",
   "id": "3c22831e",
   "metadata": {},
   "source": [
    "### Есть ли зависимость между количеством детей и возвратом кредита в срок?"
   ]
  },
  {
   "cell_type": "markdown",
   "id": "cabc0f6a",
   "metadata": {},
   "source": [
    "Посчитаем количество и процент невозвратов кредитов в зависимости от количества детей"
   ]
  },
  {
   "cell_type": "code",
   "execution_count": 39,
   "id": "476e9ba4",
   "metadata": {
    "scrolled": true
   },
   "outputs": [
    {
     "data": {
      "text/html": [
       "<div>\n",
       "<style scoped>\n",
       "    .dataframe tbody tr th:only-of-type {\n",
       "        vertical-align: middle;\n",
       "    }\n",
       "\n",
       "    .dataframe tbody tr th {\n",
       "        vertical-align: top;\n",
       "    }\n",
       "\n",
       "    .dataframe thead th {\n",
       "        text-align: right;\n",
       "    }\n",
       "</style>\n",
       "<table border=\"1\" class=\"dataframe\">\n",
       "  <thead>\n",
       "    <tr style=\"text-align: right;\">\n",
       "      <th></th>\n",
       "      <th>count</th>\n",
       "      <th>sum</th>\n",
       "      <th>debt_percent</th>\n",
       "    </tr>\n",
       "    <tr>\n",
       "      <th>children</th>\n",
       "      <th></th>\n",
       "      <th></th>\n",
       "      <th></th>\n",
       "    </tr>\n",
       "  </thead>\n",
       "  <tbody>\n",
       "    <tr>\n",
       "      <th>0</th>\n",
       "      <td>14021</td>\n",
       "      <td>1058</td>\n",
       "      <td>7.545824</td>\n",
       "    </tr>\n",
       "    <tr>\n",
       "      <th>1</th>\n",
       "      <td>4792</td>\n",
       "      <td>441</td>\n",
       "      <td>9.202838</td>\n",
       "    </tr>\n",
       "    <tr>\n",
       "      <th>2</th>\n",
       "      <td>2039</td>\n",
       "      <td>194</td>\n",
       "      <td>9.514468</td>\n",
       "    </tr>\n",
       "    <tr>\n",
       "      <th>3</th>\n",
       "      <td>328</td>\n",
       "      <td>27</td>\n",
       "      <td>8.231707</td>\n",
       "    </tr>\n",
       "    <tr>\n",
       "      <th>4</th>\n",
       "      <td>41</td>\n",
       "      <td>4</td>\n",
       "      <td>9.756098</td>\n",
       "    </tr>\n",
       "    <tr>\n",
       "      <th>5</th>\n",
       "      <td>9</td>\n",
       "      <td>0</td>\n",
       "      <td>0.000000</td>\n",
       "    </tr>\n",
       "  </tbody>\n",
       "</table>\n",
       "</div>"
      ],
      "text/plain": [
       "          count   sum  debt_percent\n",
       "children                           \n",
       "0         14021  1058      7.545824\n",
       "1          4792   441      9.202838\n",
       "2          2039   194      9.514468\n",
       "3           328    27      8.231707\n",
       "4            41     4      9.756098\n",
       "5             9     0      0.000000"
      ]
     },
     "execution_count": 39,
     "metadata": {},
     "output_type": "execute_result"
    }
   ],
   "source": [
    "# Создадим сгруппированную таблицу\n",
    "children_group = df.groupby('children')['debt'].agg(['count', 'sum'])\n",
    "\n",
    "# Добавим подсчет процента просроченных кредитов\n",
    "children_group['debt_percent'] = children_group['sum']/children_group['count']*100\n",
    "children_group"
   ]
  },
  {
   "cell_type": "markdown",
   "id": "a132fe82",
   "metadata": {},
   "source": [
    "**Важно:**  группы с 4-мя и 5-ю детьми слишком малочисленные, поэтому непрезентабельные."
   ]
  },
  {
   "cell_type": "markdown",
   "id": "6ca08c81",
   "metadata": {},
   "source": [
    "Видно, что клиенты без детей не имеют задолжностей чаще, чем клиенты с детьми. При этом от количества детей, наличие задолжности практически не зависит."
   ]
  },
  {
   "cell_type": "markdown",
   "id": "331c34b7",
   "metadata": {},
   "source": [
    "Проверим, сохраняется ли такая закономерность при дополнительной группировке по полу."
   ]
  },
  {
   "cell_type": "code",
   "execution_count": 40,
   "id": "0b472894",
   "metadata": {},
   "outputs": [
    {
     "data": {
      "text/html": [
       "<div>\n",
       "<style scoped>\n",
       "    .dataframe tbody tr th:only-of-type {\n",
       "        vertical-align: middle;\n",
       "    }\n",
       "\n",
       "    .dataframe tbody tr th {\n",
       "        vertical-align: top;\n",
       "    }\n",
       "\n",
       "    .dataframe thead tr th {\n",
       "        text-align: left;\n",
       "    }\n",
       "</style>\n",
       "<table border=\"1\" class=\"dataframe\">\n",
       "  <thead>\n",
       "    <tr>\n",
       "      <th></th>\n",
       "      <th>gender</th>\n",
       "      <th>children</th>\n",
       "      <th>count</th>\n",
       "      <th>sum</th>\n",
       "      <th>debt_percent</th>\n",
       "    </tr>\n",
       "    <tr>\n",
       "      <th></th>\n",
       "      <th></th>\n",
       "      <th></th>\n",
       "      <th>debt</th>\n",
       "      <th>debt</th>\n",
       "      <th></th>\n",
       "    </tr>\n",
       "  </thead>\n",
       "  <tbody>\n",
       "    <tr>\n",
       "      <th>0</th>\n",
       "      <td>F</td>\n",
       "      <td>0</td>\n",
       "      <td>9470</td>\n",
       "      <td>589</td>\n",
       "      <td>6.219641</td>\n",
       "    </tr>\n",
       "    <tr>\n",
       "      <th>1</th>\n",
       "      <td>F</td>\n",
       "      <td>1</td>\n",
       "      <td>3074</td>\n",
       "      <td>243</td>\n",
       "      <td>7.905010</td>\n",
       "    </tr>\n",
       "    <tr>\n",
       "      <th>2</th>\n",
       "      <td>F</td>\n",
       "      <td>2</td>\n",
       "      <td>1247</td>\n",
       "      <td>134</td>\n",
       "      <td>10.745790</td>\n",
       "    </tr>\n",
       "    <tr>\n",
       "      <th>3</th>\n",
       "      <td>F</td>\n",
       "      <td>3</td>\n",
       "      <td>195</td>\n",
       "      <td>17</td>\n",
       "      <td>8.717949</td>\n",
       "    </tr>\n",
       "    <tr>\n",
       "      <th>6</th>\n",
       "      <td>M</td>\n",
       "      <td>0</td>\n",
       "      <td>4551</td>\n",
       "      <td>469</td>\n",
       "      <td>10.305427</td>\n",
       "    </tr>\n",
       "    <tr>\n",
       "      <th>7</th>\n",
       "      <td>M</td>\n",
       "      <td>1</td>\n",
       "      <td>1718</td>\n",
       "      <td>198</td>\n",
       "      <td>11.525029</td>\n",
       "    </tr>\n",
       "    <tr>\n",
       "      <th>8</th>\n",
       "      <td>M</td>\n",
       "      <td>2</td>\n",
       "      <td>792</td>\n",
       "      <td>60</td>\n",
       "      <td>7.575758</td>\n",
       "    </tr>\n",
       "    <tr>\n",
       "      <th>9</th>\n",
       "      <td>M</td>\n",
       "      <td>3</td>\n",
       "      <td>133</td>\n",
       "      <td>10</td>\n",
       "      <td>7.518797</td>\n",
       "    </tr>\n",
       "  </tbody>\n",
       "</table>\n",
       "</div>"
      ],
      "text/plain": [
       "  gender children count  sum debt_percent\n",
       "                   debt debt             \n",
       "0      F        0  9470  589     6.219641\n",
       "1      F        1  3074  243     7.905010\n",
       "2      F        2  1247  134    10.745790\n",
       "3      F        3   195   17     8.717949\n",
       "6      M        0  4551  469    10.305427\n",
       "7      M        1  1718  198    11.525029\n",
       "8      M        2   792   60     7.575758\n",
       "9      M        3   133   10     7.518797"
      ]
     },
     "execution_count": 40,
     "metadata": {},
     "output_type": "execute_result"
    }
   ],
   "source": [
    "# Создадим сводную таблицу по полу и количеству детей\n",
    "children_pivot = df.pivot_table(index=['gender', 'children'], values='debt', aggfunc=['count', 'sum'])\n",
    "\n",
    "# Удалим мультииндекс\n",
    "children_pivot = children_pivot.reset_index()\n",
    "\n",
    "# Удалим строки с 4-мя и 5-ю детьми как непрезентабельные\n",
    "children_pivot = children_pivot[children_pivot['children'] < 4]\n",
    "\n",
    "# Добавим рассчет процента невозвратов кредита\n",
    "children_pivot['debt_percent'] = children_pivot['sum']/children_pivot['count']*100\n",
    "children_pivot\n"
   ]
  },
  {
   "cell_type": "markdown",
   "id": "12633e75",
   "metadata": {},
   "source": [
    "И мужчины и женщины с появлением детей начинают чаще иметь задолжности. Но! Оказывается, что мужчины без детей имеют задолжности чаще, чем женщины с одним ребенком и практически так же часто, как женщины с большим числом детей. Возможно, многодетные мужчины реже имеют просрочку, но данную гипотезу необходимо проверить на большем материале."
   ]
  },
  {
   "cell_type": "markdown",
   "id": "e1c8283d",
   "metadata": {},
   "source": [
    "### Есть ли зависимость между семейным положением и возвратом кредита в срок?"
   ]
  },
  {
   "cell_type": "markdown",
   "id": "18dda375",
   "metadata": {},
   "source": [
    "Посчитаем количество и процент невозвратов кредитов в зависимости от семейного положения."
   ]
  },
  {
   "cell_type": "code",
   "execution_count": 41,
   "id": "35038e8c",
   "metadata": {
    "scrolled": false
   },
   "outputs": [
    {
     "data": {
      "text/html": [
       "<div>\n",
       "<style scoped>\n",
       "    .dataframe tbody tr th:only-of-type {\n",
       "        vertical-align: middle;\n",
       "    }\n",
       "\n",
       "    .dataframe tbody tr th {\n",
       "        vertical-align: top;\n",
       "    }\n",
       "\n",
       "    .dataframe thead th {\n",
       "        text-align: right;\n",
       "    }\n",
       "</style>\n",
       "<table border=\"1\" class=\"dataframe\">\n",
       "  <thead>\n",
       "    <tr style=\"text-align: right;\">\n",
       "      <th></th>\n",
       "      <th>count</th>\n",
       "      <th>sum</th>\n",
       "      <th>debt_percent</th>\n",
       "    </tr>\n",
       "    <tr>\n",
       "      <th>family_status_id</th>\n",
       "      <th></th>\n",
       "      <th></th>\n",
       "      <th></th>\n",
       "    </tr>\n",
       "  </thead>\n",
       "  <tbody>\n",
       "    <tr>\n",
       "      <th>0</th>\n",
       "      <td>12213</td>\n",
       "      <td>923</td>\n",
       "      <td>7.557521</td>\n",
       "    </tr>\n",
       "    <tr>\n",
       "      <th>1</th>\n",
       "      <td>4112</td>\n",
       "      <td>383</td>\n",
       "      <td>9.314202</td>\n",
       "    </tr>\n",
       "    <tr>\n",
       "      <th>2</th>\n",
       "      <td>946</td>\n",
       "      <td>62</td>\n",
       "      <td>6.553911</td>\n",
       "    </tr>\n",
       "    <tr>\n",
       "      <th>3</th>\n",
       "      <td>1179</td>\n",
       "      <td>84</td>\n",
       "      <td>7.124682</td>\n",
       "    </tr>\n",
       "    <tr>\n",
       "      <th>4</th>\n",
       "      <td>2780</td>\n",
       "      <td>272</td>\n",
       "      <td>9.784173</td>\n",
       "    </tr>\n",
       "  </tbody>\n",
       "</table>\n",
       "</div>"
      ],
      "text/plain": [
       "                  count  sum  debt_percent\n",
       "family_status_id                          \n",
       "0                 12213  923      7.557521\n",
       "1                  4112  383      9.314202\n",
       "2                   946   62      6.553911\n",
       "3                  1179   84      7.124682\n",
       "4                  2780  272      9.784173"
      ]
     },
     "execution_count": 41,
     "metadata": {},
     "output_type": "execute_result"
    }
   ],
   "source": [
    "# Создадим сгруппированную таблицу\n",
    "family_status_group = df.groupby('family_status_id')['debt'].agg(['count', 'sum'])\n",
    "\n",
    "# Добавим подсчет процента просроченных кредитов\n",
    "family_status_group['debt_percent'] = family_status_group['sum']/family_status_group['count']*100\n",
    "family_status_group"
   ]
  },
  {
   "cell_type": "code",
   "execution_count": 42,
   "id": "0f847235",
   "metadata": {},
   "outputs": [
    {
     "data": {
      "text/html": [
       "<div>\n",
       "<style scoped>\n",
       "    .dataframe tbody tr th:only-of-type {\n",
       "        vertical-align: middle;\n",
       "    }\n",
       "\n",
       "    .dataframe tbody tr th {\n",
       "        vertical-align: top;\n",
       "    }\n",
       "\n",
       "    .dataframe thead th {\n",
       "        text-align: right;\n",
       "    }\n",
       "</style>\n",
       "<table border=\"1\" class=\"dataframe\">\n",
       "  <thead>\n",
       "    <tr style=\"text-align: right;\">\n",
       "      <th></th>\n",
       "      <th>family_status</th>\n",
       "      <th>family_status_id</th>\n",
       "    </tr>\n",
       "  </thead>\n",
       "  <tbody>\n",
       "    <tr>\n",
       "      <th>0</th>\n",
       "      <td>женат / замужем</td>\n",
       "      <td>0</td>\n",
       "    </tr>\n",
       "    <tr>\n",
       "      <th>1</th>\n",
       "      <td>гражданский брак</td>\n",
       "      <td>1</td>\n",
       "    </tr>\n",
       "    <tr>\n",
       "      <th>2</th>\n",
       "      <td>вдовец / вдова</td>\n",
       "      <td>2</td>\n",
       "    </tr>\n",
       "    <tr>\n",
       "      <th>3</th>\n",
       "      <td>в разводе</td>\n",
       "      <td>3</td>\n",
       "    </tr>\n",
       "    <tr>\n",
       "      <th>4</th>\n",
       "      <td>Не женат / не замужем</td>\n",
       "      <td>4</td>\n",
       "    </tr>\n",
       "  </tbody>\n",
       "</table>\n",
       "</div>"
      ],
      "text/plain": [
       "           family_status  family_status_id\n",
       "0        женат / замужем                 0\n",
       "1       гражданский брак                 1\n",
       "2         вдовец / вдова                 2\n",
       "3              в разводе                 3\n",
       "4  Не женат / не замужем                 4"
      ]
     },
     "execution_count": 42,
     "metadata": {},
     "output_type": "execute_result"
    }
   ],
   "source": [
    "# Выведем на экран \"словарь\" семейного положения\n",
    "family_status_dict"
   ]
  },
  {
   "cell_type": "markdown",
   "id": "d13106d9",
   "metadata": {},
   "source": [
    "**Важно:**  группы 2-\"вдовец/вдова\" и 3-\"в разводе\" не очень многочисленные, анализ в этих группах может быть статистически недостоверным при дроблении на более мелкие подгруппы."
   ]
  },
  {
   "cell_type": "markdown",
   "id": "f90de9da",
   "metadata": {},
   "source": [
    "**Наиболее надежная группа - `2-\"вдовец/вдова\"`, наименее надежные - `1-\"гражданский брак` и `4-\"не женат/не замужем`.**\n",
    "\n",
    "Но причиной таких различий могут быть другие социальные факторы, например пол или возраст. При этом именно возраст клиентов в данном случае может оказаться ключевым\n",
    "\n",
    "**Гипотеза:** *клиенты из группы 1 и 4 самые молодые, а из группы 2 самые пожилые, и именно это оказывается важным при изучении надежности заемщика.*"
   ]
  },
  {
   "cell_type": "markdown",
   "id": "15a79c4a",
   "metadata": {},
   "source": [
    "Постараемся проверить гипотезу:"
   ]
  },
  {
   "cell_type": "code",
   "execution_count": 43,
   "id": "e966ba72",
   "metadata": {},
   "outputs": [
    {
     "data": {
      "text/html": [
       "<div>\n",
       "<style scoped>\n",
       "    .dataframe tbody tr th:only-of-type {\n",
       "        vertical-align: middle;\n",
       "    }\n",
       "\n",
       "    .dataframe tbody tr th {\n",
       "        vertical-align: top;\n",
       "    }\n",
       "\n",
       "    .dataframe thead th {\n",
       "        text-align: right;\n",
       "    }\n",
       "</style>\n",
       "<table border=\"1\" class=\"dataframe\">\n",
       "  <thead>\n",
       "    <tr style=\"text-align: right;\">\n",
       "      <th></th>\n",
       "      <th>count</th>\n",
       "      <th>sum</th>\n",
       "      <th>debt_percent</th>\n",
       "      <th>mean_years</th>\n",
       "    </tr>\n",
       "    <tr>\n",
       "      <th>family_status_id</th>\n",
       "      <th></th>\n",
       "      <th></th>\n",
       "      <th></th>\n",
       "      <th></th>\n",
       "    </tr>\n",
       "  </thead>\n",
       "  <tbody>\n",
       "    <tr>\n",
       "      <th>0</th>\n",
       "      <td>12213</td>\n",
       "      <td>923</td>\n",
       "      <td>7.557521</td>\n",
       "      <td>43.729714</td>\n",
       "    </tr>\n",
       "    <tr>\n",
       "      <th>1</th>\n",
       "      <td>4112</td>\n",
       "      <td>383</td>\n",
       "      <td>9.314202</td>\n",
       "      <td>42.286965</td>\n",
       "    </tr>\n",
       "    <tr>\n",
       "      <th>2</th>\n",
       "      <td>946</td>\n",
       "      <td>62</td>\n",
       "      <td>6.553911</td>\n",
       "      <td>56.800211</td>\n",
       "    </tr>\n",
       "    <tr>\n",
       "      <th>3</th>\n",
       "      <td>1179</td>\n",
       "      <td>84</td>\n",
       "      <td>7.124682</td>\n",
       "      <td>45.948261</td>\n",
       "    </tr>\n",
       "    <tr>\n",
       "      <th>4</th>\n",
       "      <td>2780</td>\n",
       "      <td>272</td>\n",
       "      <td>9.784173</td>\n",
       "      <td>38.588849</td>\n",
       "    </tr>\n",
       "  </tbody>\n",
       "</table>\n",
       "</div>"
      ],
      "text/plain": [
       "                  count  sum  debt_percent  mean_years\n",
       "family_status_id                                      \n",
       "0                 12213  923      7.557521   43.729714\n",
       "1                  4112  383      9.314202   42.286965\n",
       "2                   946   62      6.553911   56.800211\n",
       "3                  1179   84      7.124682   45.948261\n",
       "4                  2780  272      9.784173   38.588849"
      ]
     },
     "execution_count": 43,
     "metadata": {},
     "output_type": "execute_result"
    }
   ],
   "source": [
    "# Добавим к таблице данные по среднему возрасту клиентов\n",
    "# В данном случае выбрано среднее, поскольку выбросов в возрасте быть не может, а ср. арифметическое лучше отражает необходимый уровень\n",
    "\n",
    "family_status_group['mean_years'] = df.groupby('family_status_id')['dob_years'].mean()\n",
    "family_status_group"
   ]
  },
  {
   "cell_type": "markdown",
   "id": "612eac3d",
   "metadata": {},
   "source": [
    "**Гипотеза подтверждена частично:** \n",
    "* клиенты из группы `2-\"вдовец/вдова\"` - самые пожилые. Сочетание этой группы и возраста дает максимальную надежность.\n",
    "* клиенты из группы `4-\"не женат/не замужем`- самые молодые. Сочетание этой группы и возраста дает минимальную надежность.\n",
    "* клиенты из группы `1-\"гражданский брак` имеют средний возраст по группе. Их низкая надежность может быть связана именно с семейным положением."
   ]
  },
  {
   "cell_type": "markdown",
   "id": "6585d541",
   "metadata": {},
   "source": [
    "Проверим, сохраняется ли найденные закономерности при дополнительной группировке по полу."
   ]
  },
  {
   "cell_type": "code",
   "execution_count": 44,
   "id": "8aceadf9",
   "metadata": {
    "scrolled": false
   },
   "outputs": [
    {
     "data": {
      "text/html": [
       "<div>\n",
       "<style scoped>\n",
       "    .dataframe tbody tr th:only-of-type {\n",
       "        vertical-align: middle;\n",
       "    }\n",
       "\n",
       "    .dataframe tbody tr th {\n",
       "        vertical-align: top;\n",
       "    }\n",
       "\n",
       "    .dataframe thead tr th {\n",
       "        text-align: left;\n",
       "    }\n",
       "\n",
       "    .dataframe thead tr:last-of-type th {\n",
       "        text-align: right;\n",
       "    }\n",
       "</style>\n",
       "<table border=\"1\" class=\"dataframe\">\n",
       "  <thead>\n",
       "    <tr>\n",
       "      <th></th>\n",
       "      <th></th>\n",
       "      <th colspan=\"2\" halign=\"left\">debt</th>\n",
       "      <th>dob_years</th>\n",
       "      <th>debt_percent</th>\n",
       "    </tr>\n",
       "    <tr>\n",
       "      <th></th>\n",
       "      <th></th>\n",
       "      <th>count</th>\n",
       "      <th>sum</th>\n",
       "      <th>mean</th>\n",
       "      <th></th>\n",
       "    </tr>\n",
       "    <tr>\n",
       "      <th>gender</th>\n",
       "      <th>family_status_id</th>\n",
       "      <th></th>\n",
       "      <th></th>\n",
       "      <th></th>\n",
       "      <th></th>\n",
       "    </tr>\n",
       "  </thead>\n",
       "  <tbody>\n",
       "    <tr>\n",
       "      <th rowspan=\"5\" valign=\"top\">F</th>\n",
       "      <th>0</th>\n",
       "      <td>7677</td>\n",
       "      <td>523</td>\n",
       "      <td>44.270548</td>\n",
       "      <td>6.812557</td>\n",
       "    </tr>\n",
       "    <tr>\n",
       "      <th>1</th>\n",
       "      <td>2816</td>\n",
       "      <td>231</td>\n",
       "      <td>43.132457</td>\n",
       "      <td>8.203125</td>\n",
       "    </tr>\n",
       "    <tr>\n",
       "      <th>2</th>\n",
       "      <td>891</td>\n",
       "      <td>51</td>\n",
       "      <td>56.982043</td>\n",
       "      <td>5.723906</td>\n",
       "    </tr>\n",
       "    <tr>\n",
       "      <th>3</th>\n",
       "      <td>922</td>\n",
       "      <td>61</td>\n",
       "      <td>46.714751</td>\n",
       "      <td>6.616052</td>\n",
       "    </tr>\n",
       "    <tr>\n",
       "      <th>4</th>\n",
       "      <td>1715</td>\n",
       "      <td>118</td>\n",
       "      <td>41.553936</td>\n",
       "      <td>6.880466</td>\n",
       "    </tr>\n",
       "    <tr>\n",
       "      <th rowspan=\"5\" valign=\"top\">M</th>\n",
       "      <th>0</th>\n",
       "      <td>4536</td>\n",
       "      <td>400</td>\n",
       "      <td>42.814374</td>\n",
       "      <td>8.818342</td>\n",
       "    </tr>\n",
       "    <tr>\n",
       "      <th>1</th>\n",
       "      <td>1296</td>\n",
       "      <td>152</td>\n",
       "      <td>40.449846</td>\n",
       "      <td>11.728395</td>\n",
       "    </tr>\n",
       "    <tr>\n",
       "      <th>2</th>\n",
       "      <td>55</td>\n",
       "      <td>11</td>\n",
       "      <td>53.854545</td>\n",
       "      <td>20.000000</td>\n",
       "    </tr>\n",
       "    <tr>\n",
       "      <th>3</th>\n",
       "      <td>257</td>\n",
       "      <td>23</td>\n",
       "      <td>43.198444</td>\n",
       "      <td>8.949416</td>\n",
       "    </tr>\n",
       "    <tr>\n",
       "      <th>4</th>\n",
       "      <td>1065</td>\n",
       "      <td>154</td>\n",
       "      <td>33.814085</td>\n",
       "      <td>14.460094</td>\n",
       "    </tr>\n",
       "  </tbody>\n",
       "</table>\n",
       "</div>"
      ],
      "text/plain": [
       "                         debt       dob_years debt_percent\n",
       "                        count  sum       mean             \n",
       "gender family_status_id                                   \n",
       "F      0                 7677  523  44.270548     6.812557\n",
       "       1                 2816  231  43.132457     8.203125\n",
       "       2                  891   51  56.982043     5.723906\n",
       "       3                  922   61  46.714751     6.616052\n",
       "       4                 1715  118  41.553936     6.880466\n",
       "M      0                 4536  400  42.814374     8.818342\n",
       "       1                 1296  152  40.449846    11.728395\n",
       "       2                   55   11  53.854545    20.000000\n",
       "       3                  257   23  43.198444     8.949416\n",
       "       4                 1065  154  33.814085    14.460094"
      ]
     },
     "execution_count": 44,
     "metadata": {},
     "output_type": "execute_result"
    }
   ],
   "source": [
    "# Создадим сводную таблицу\n",
    "family_status_pivot = df.groupby(['gender','family_status_id']).agg({'debt':['count', 'sum'], 'dob_years':'mean'})\n",
    "\n",
    "# Добавим рассчет процента невозврата кредита\n",
    "family_status_pivot['debt_percent'] = family_status_pivot['debt']['sum']/family_status_pivot['debt']['count']*100\n",
    "\n",
    "family_status_pivot"
   ]
  },
  {
   "cell_type": "markdown",
   "id": "4e534cc3",
   "metadata": {},
   "source": [
    "**Выводы:**\n",
    "\n",
    "1. Численность группы вдовых мужчин небольшая, поэтому делать выводы по ней не надо.\n",
    "2. Среди женщин самыми надежными плательщицами являются вдовы, что может быть связано с максимальным возрастом в этой группе. Самые ненадежные - женщины, живущие гражданским браком. Незамужние женщины показывают средний уровень надежности срежи других категорий женщин.\n",
    "3. Неженатые мужчины - самые ненадежные вкладчики, что может быть обусловлено их молдым возрастом. Женатые мужчины и в разводе - самые надежные группы среди мужчин. Их надежность соответствует самому плохому варианту среди женщин."
   ]
  },
  {
   "cell_type": "markdown",
   "id": "d15655de",
   "metadata": {},
   "source": [
    "### Есть ли зависимость между уровнем дохода и возвратом кредита в срок?"
   ]
  },
  {
   "cell_type": "markdown",
   "id": "ed5f9e6a",
   "metadata": {},
   "source": [
    "Выведем сводную таблицу между группой по уровню дохода и возвратом кредита."
   ]
  },
  {
   "cell_type": "code",
   "execution_count": 45,
   "id": "af2ec27c",
   "metadata": {
    "scrolled": true
   },
   "outputs": [
    {
     "data": {
      "text/html": [
       "<div>\n",
       "<style scoped>\n",
       "    .dataframe tbody tr th:only-of-type {\n",
       "        vertical-align: middle;\n",
       "    }\n",
       "\n",
       "    .dataframe tbody tr th {\n",
       "        vertical-align: top;\n",
       "    }\n",
       "\n",
       "    .dataframe thead th {\n",
       "        text-align: right;\n",
       "    }\n",
       "</style>\n",
       "<table border=\"1\" class=\"dataframe\">\n",
       "  <thead>\n",
       "    <tr style=\"text-align: right;\">\n",
       "      <th></th>\n",
       "      <th>count</th>\n",
       "      <th>sum</th>\n",
       "      <th>debt_percent</th>\n",
       "    </tr>\n",
       "    <tr>\n",
       "      <th>total_income_category</th>\n",
       "      <th></th>\n",
       "      <th></th>\n",
       "      <th></th>\n",
       "    </tr>\n",
       "  </thead>\n",
       "  <tbody>\n",
       "    <tr>\n",
       "      <th>A</th>\n",
       "      <td>25</td>\n",
       "      <td>2</td>\n",
       "      <td>8.000000</td>\n",
       "    </tr>\n",
       "    <tr>\n",
       "      <th>B</th>\n",
       "      <td>4986</td>\n",
       "      <td>353</td>\n",
       "      <td>7.079824</td>\n",
       "    </tr>\n",
       "    <tr>\n",
       "      <th>C</th>\n",
       "      <td>15850</td>\n",
       "      <td>1346</td>\n",
       "      <td>8.492114</td>\n",
       "    </tr>\n",
       "    <tr>\n",
       "      <th>D</th>\n",
       "      <td>347</td>\n",
       "      <td>21</td>\n",
       "      <td>6.051873</td>\n",
       "    </tr>\n",
       "    <tr>\n",
       "      <th>E</th>\n",
       "      <td>22</td>\n",
       "      <td>2</td>\n",
       "      <td>9.090909</td>\n",
       "    </tr>\n",
       "  </tbody>\n",
       "</table>\n",
       "</div>"
      ],
      "text/plain": [
       "                       count   sum  debt_percent\n",
       "total_income_category                           \n",
       "A                         25     2      8.000000\n",
       "B                       4986   353      7.079824\n",
       "C                      15850  1346      8.492114\n",
       "D                        347    21      6.051873\n",
       "E                         22     2      9.090909"
      ]
     },
     "execution_count": 45,
     "metadata": {},
     "output_type": "execute_result"
    }
   ],
   "source": [
    "# Создадим сгруппированную таблицу\n",
    "total_income_group = df.groupby('total_income_category')['debt'].agg(['count', 'sum'])\n",
    "\n",
    "# Добавим подсчет процента просроченных кредитов\n",
    "total_income_group['debt_percent'] = total_income_group['sum']/total_income_group['count']*100\n",
    "total_income_group"
   ]
  },
  {
   "cell_type": "code",
   "execution_count": 46,
   "id": "9ddc2887",
   "metadata": {},
   "outputs": [
    {
     "data": {
      "text/plain": [
       "8.120584079133302"
      ]
     },
     "execution_count": 46,
     "metadata": {},
     "output_type": "execute_result"
    }
   ],
   "source": [
    "# Рассчитаем средний процент невозврата кредита независимо от дохода, что бы было с чем сравнивать:\n",
    "df['debt'].sum()/df['debt'].count()*100"
   ]
  },
  {
   "cell_type": "markdown",
   "id": "da1bb3ba",
   "metadata": {},
   "source": [
    "Очевидно, что предложенное разбиение на группы не отвечает нашей задаче - группы `B` и `C` слишком многочисленные, а остальные - малочисленные. К тому же, самой рискованной группой оказывается группа `E`, а самой надежной - соседняя `D`.\n",
    "\n",
    "Создадим новую группировку уровня дохода исходя из более равномерного распределения клиентов:"
   ]
  },
  {
   "cell_type": "code",
   "execution_count": 47,
   "id": "c08cac40",
   "metadata": {
    "scrolled": false
   },
   "outputs": [
    {
     "name": "stdout",
     "output_type": "stream",
     "text": [
      "145017.0 20667 2265604\n"
     ]
    }
   ],
   "source": [
    "# Медиана дохода, его минимум и максимум\n",
    "print(df['total_income'].median(), df['total_income'].min(), df['total_income'].max())"
   ]
  },
  {
   "cell_type": "code",
   "execution_count": 48,
   "id": "6d2c5b68",
   "metadata": {},
   "outputs": [
    {
     "name": "stdout",
     "output_type": "stream",
     "text": [
      "430011 715006\n",
      "62117 103567\n"
     ]
    }
   ],
   "source": [
    "int_after = (1000000-df['total_income'].median())/3\n",
    "print (round(df['total_income'].median()+int_after), round(df['total_income'].median()+2*int_after))\n",
    "\n",
    "int_before = (df['total_income'].median()-df['total_income'].min())/3\n",
    "print (round(df['total_income'].min()+int_before), round(df['total_income'].min()+2*int_before))"
   ]
  },
  {
   "cell_type": "markdown",
   "id": "c1d38027",
   "metadata": {},
   "source": [
    "До медианного значения сделаем 3 практически равных интервала: до 65000, до 105000, до 145000\n",
    "После медианы наблюдается несимметричное распределение, поэтому выберем интервалы так, что бы по численности они были приблизительно равными."
   ]
  },
  {
   "cell_type": "code",
   "execution_count": 49,
   "id": "dfbd4c40",
   "metadata": {},
   "outputs": [],
   "source": [
    "def income_category_func_2(income):\n",
    "    \"\"\" Функция принимает доход и возвращает категорию по следующему закону:\n",
    "    0–65000 — `F`\n",
    "    65001–105000 — `E`\n",
    "    105001–145000 — `D`\n",
    "    145001–245000 — `C`\n",
    "    250001-400000 - `B`\n",
    "    больше 500000 — `A`\n",
    "    \n",
    "    \n",
    "    Что бы избежать падения функции в случае передачи ей значения типа `str`, поместим все в try-except\"\"\"\n",
    "    \n",
    "    try:\n",
    "        if income > 400000:\n",
    "            return 'A'\n",
    "        elif income > 245000:\n",
    "            return 'B'\n",
    "        elif income > 145000:\n",
    "            return 'C'\n",
    "        elif income > 105000:\n",
    "            return 'D'\n",
    "        elif income > 65000:\n",
    "            return 'E'\n",
    "        elif income > 0:\n",
    "            return 'F'\n",
    "        else:\n",
    "            return f'Ошибка данных, знечение дохода: {income}'\n",
    "    except:\n",
    "        return 'Ошибка данных, доход не типа \"int\" или \"float\"'"
   ]
  },
  {
   "cell_type": "code",
   "execution_count": 50,
   "id": "b41b4789",
   "metadata": {},
   "outputs": [
    {
     "data": {
      "text/html": [
       "<div>\n",
       "<style scoped>\n",
       "    .dataframe tbody tr th:only-of-type {\n",
       "        vertical-align: middle;\n",
       "    }\n",
       "\n",
       "    .dataframe tbody tr th {\n",
       "        vertical-align: top;\n",
       "    }\n",
       "\n",
       "    .dataframe thead th {\n",
       "        text-align: right;\n",
       "    }\n",
       "</style>\n",
       "<table border=\"1\" class=\"dataframe\">\n",
       "  <thead>\n",
       "    <tr style=\"text-align: right;\">\n",
       "      <th></th>\n",
       "      <th>children</th>\n",
       "      <th>days_employed</th>\n",
       "      <th>dob_years</th>\n",
       "      <th>education_id</th>\n",
       "      <th>family_status_id</th>\n",
       "      <th>gender</th>\n",
       "      <th>income_type</th>\n",
       "      <th>debt</th>\n",
       "      <th>total_income</th>\n",
       "      <th>purpose</th>\n",
       "      <th>total_income_category</th>\n",
       "      <th>purpose_category</th>\n",
       "      <th>total_income_category_2</th>\n",
       "    </tr>\n",
       "  </thead>\n",
       "  <tbody>\n",
       "    <tr>\n",
       "      <th>0</th>\n",
       "      <td>1</td>\n",
       "      <td>8437</td>\n",
       "      <td>42</td>\n",
       "      <td>0</td>\n",
       "      <td>0</td>\n",
       "      <td>F</td>\n",
       "      <td>сотрудник</td>\n",
       "      <td>0</td>\n",
       "      <td>253875</td>\n",
       "      <td>покупка жилья</td>\n",
       "      <td>B</td>\n",
       "      <td>операции с недвижимостью</td>\n",
       "      <td>B</td>\n",
       "    </tr>\n",
       "    <tr>\n",
       "      <th>1</th>\n",
       "      <td>1</td>\n",
       "      <td>4024</td>\n",
       "      <td>36</td>\n",
       "      <td>1</td>\n",
       "      <td>0</td>\n",
       "      <td>F</td>\n",
       "      <td>сотрудник</td>\n",
       "      <td>0</td>\n",
       "      <td>112080</td>\n",
       "      <td>приобретение автомобиля</td>\n",
       "      <td>C</td>\n",
       "      <td>операции с автомобилем</td>\n",
       "      <td>D</td>\n",
       "    </tr>\n",
       "    <tr>\n",
       "      <th>2</th>\n",
       "      <td>0</td>\n",
       "      <td>5623</td>\n",
       "      <td>33</td>\n",
       "      <td>1</td>\n",
       "      <td>0</td>\n",
       "      <td>M</td>\n",
       "      <td>сотрудник</td>\n",
       "      <td>0</td>\n",
       "      <td>145885</td>\n",
       "      <td>покупка жилья</td>\n",
       "      <td>C</td>\n",
       "      <td>операции с недвижимостью</td>\n",
       "      <td>C</td>\n",
       "    </tr>\n",
       "    <tr>\n",
       "      <th>3</th>\n",
       "      <td>3</td>\n",
       "      <td>4124</td>\n",
       "      <td>32</td>\n",
       "      <td>1</td>\n",
       "      <td>0</td>\n",
       "      <td>M</td>\n",
       "      <td>сотрудник</td>\n",
       "      <td>0</td>\n",
       "      <td>267628</td>\n",
       "      <td>дополнительное образование</td>\n",
       "      <td>B</td>\n",
       "      <td>получение образования</td>\n",
       "      <td>B</td>\n",
       "    </tr>\n",
       "    <tr>\n",
       "      <th>4</th>\n",
       "      <td>0</td>\n",
       "      <td>340266</td>\n",
       "      <td>53</td>\n",
       "      <td>1</td>\n",
       "      <td>1</td>\n",
       "      <td>F</td>\n",
       "      <td>пенсионер</td>\n",
       "      <td>0</td>\n",
       "      <td>158616</td>\n",
       "      <td>сыграть свадьбу</td>\n",
       "      <td>C</td>\n",
       "      <td>проведение свадьбы</td>\n",
       "      <td>C</td>\n",
       "    </tr>\n",
       "  </tbody>\n",
       "</table>\n",
       "</div>"
      ],
      "text/plain": [
       "   children  days_employed  dob_years  education_id  family_status_id gender  \\\n",
       "0         1           8437         42             0                 0      F   \n",
       "1         1           4024         36             1                 0      F   \n",
       "2         0           5623         33             1                 0      M   \n",
       "3         3           4124         32             1                 0      M   \n",
       "4         0         340266         53             1                 1      F   \n",
       "\n",
       "  income_type  debt  total_income                     purpose  \\\n",
       "0   сотрудник     0        253875               покупка жилья   \n",
       "1   сотрудник     0        112080     приобретение автомобиля   \n",
       "2   сотрудник     0        145885               покупка жилья   \n",
       "3   сотрудник     0        267628  дополнительное образование   \n",
       "4   пенсионер     0        158616             сыграть свадьбу   \n",
       "\n",
       "  total_income_category          purpose_category total_income_category_2  \n",
       "0                     B  операции с недвижимостью                       B  \n",
       "1                     C    операции с автомобилем                       D  \n",
       "2                     C  операции с недвижимостью                       C  \n",
       "3                     B     получение образования                       B  \n",
       "4                     C        проведение свадьбы                       C  "
      ]
     },
     "execution_count": 50,
     "metadata": {},
     "output_type": "execute_result"
    }
   ],
   "source": [
    "# Теперь применим функцию к столбцу total_income\n",
    "df['total_income_category_2'] = df['total_income'].apply(income_category_func_2)\n",
    "df.head()"
   ]
  },
  {
   "cell_type": "code",
   "execution_count": 51,
   "id": "044e56cf",
   "metadata": {
    "scrolled": false
   },
   "outputs": [
    {
     "data": {
      "text/html": [
       "<div>\n",
       "<style scoped>\n",
       "    .dataframe tbody tr th:only-of-type {\n",
       "        vertical-align: middle;\n",
       "    }\n",
       "\n",
       "    .dataframe tbody tr th {\n",
       "        vertical-align: top;\n",
       "    }\n",
       "\n",
       "    .dataframe thead th {\n",
       "        text-align: right;\n",
       "    }\n",
       "</style>\n",
       "<table border=\"1\" class=\"dataframe\">\n",
       "  <thead>\n",
       "    <tr style=\"text-align: right;\">\n",
       "      <th></th>\n",
       "      <th>count</th>\n",
       "      <th>sum</th>\n",
       "      <th>debt_percent</th>\n",
       "    </tr>\n",
       "    <tr>\n",
       "      <th>total_income_category_2</th>\n",
       "      <th></th>\n",
       "      <th></th>\n",
       "      <th></th>\n",
       "    </tr>\n",
       "  </thead>\n",
       "  <tbody>\n",
       "    <tr>\n",
       "      <th>A</th>\n",
       "      <td>527</td>\n",
       "      <td>31</td>\n",
       "      <td>5.882353</td>\n",
       "    </tr>\n",
       "    <tr>\n",
       "      <th>B</th>\n",
       "      <td>2405</td>\n",
       "      <td>172</td>\n",
       "      <td>7.151767</td>\n",
       "    </tr>\n",
       "    <tr>\n",
       "      <th>C</th>\n",
       "      <td>8725</td>\n",
       "      <td>725</td>\n",
       "      <td>8.309456</td>\n",
       "    </tr>\n",
       "    <tr>\n",
       "      <th>D</th>\n",
       "      <td>4547</td>\n",
       "      <td>399</td>\n",
       "      <td>8.775016</td>\n",
       "    </tr>\n",
       "    <tr>\n",
       "      <th>E</th>\n",
       "      <td>3939</td>\n",
       "      <td>324</td>\n",
       "      <td>8.225438</td>\n",
       "    </tr>\n",
       "    <tr>\n",
       "      <th>F</th>\n",
       "      <td>1087</td>\n",
       "      <td>73</td>\n",
       "      <td>6.715731</td>\n",
       "    </tr>\n",
       "  </tbody>\n",
       "</table>\n",
       "</div>"
      ],
      "text/plain": [
       "                         count  sum  debt_percent\n",
       "total_income_category_2                          \n",
       "A                          527   31      5.882353\n",
       "B                         2405  172      7.151767\n",
       "C                         8725  725      8.309456\n",
       "D                         4547  399      8.775016\n",
       "E                         3939  324      8.225438\n",
       "F                         1087   73      6.715731"
      ]
     },
     "execution_count": 51,
     "metadata": {},
     "output_type": "execute_result"
    }
   ],
   "source": [
    "# Создадим сгруппированную таблицу\n",
    "total_income_group = df.groupby('total_income_category_2')['debt'].agg(['count', 'sum'])\n",
    "\n",
    "# Добавим подсчет процента просроченных кредитов\n",
    "total_income_group['debt_percent'] = total_income_group['sum']/total_income_group['count']*100\n",
    "total_income_group"
   ]
  },
  {
   "cell_type": "markdown",
   "id": "27b7055f",
   "metadata": {},
   "source": [
    "Теперь распределение по интервалам оказывается более равномерное - крайние группы самых богатых и бедных оказываются немногочисленными, центральные группы более или менее равны по численности.\n",
    "\n",
    "**Вывод:**\n",
    "\n",
    "* Вероятность невозврата достигает своего максимума при средних значениях зарплат - в интервале `105001–145000 — D`.\n",
    "* Наиболее богатые и самые бедные реже задерживают выплаты."
   ]
  },
  {
   "cell_type": "markdown",
   "id": "18f50e7f",
   "metadata": {},
   "source": [
    "### Как разные цели кредита влияют на его возврат в срок?"
   ]
  },
  {
   "cell_type": "markdown",
   "id": "4b3b4191",
   "metadata": {},
   "source": [
    "Выведем сводную таблицу между группой по цели кредита и возвратом кредита."
   ]
  },
  {
   "cell_type": "code",
   "execution_count": 52,
   "id": "bb19d57e",
   "metadata": {
    "scrolled": false
   },
   "outputs": [
    {
     "data": {
      "text/html": [
       "<div>\n",
       "<style scoped>\n",
       "    .dataframe tbody tr th:only-of-type {\n",
       "        vertical-align: middle;\n",
       "    }\n",
       "\n",
       "    .dataframe tbody tr th {\n",
       "        vertical-align: top;\n",
       "    }\n",
       "\n",
       "    .dataframe thead th {\n",
       "        text-align: right;\n",
       "    }\n",
       "</style>\n",
       "<table border=\"1\" class=\"dataframe\">\n",
       "  <thead>\n",
       "    <tr style=\"text-align: right;\">\n",
       "      <th></th>\n",
       "      <th>count</th>\n",
       "      <th>sum</th>\n",
       "      <th>debt_percent</th>\n",
       "    </tr>\n",
       "    <tr>\n",
       "      <th>purpose_category</th>\n",
       "      <th></th>\n",
       "      <th></th>\n",
       "      <th></th>\n",
       "    </tr>\n",
       "  </thead>\n",
       "  <tbody>\n",
       "    <tr>\n",
       "      <th>операции с автомобилем</th>\n",
       "      <td>4258</td>\n",
       "      <td>397</td>\n",
       "      <td>9.323626</td>\n",
       "    </tr>\n",
       "    <tr>\n",
       "      <th>операции с недвижимостью</th>\n",
       "      <td>10703</td>\n",
       "      <td>777</td>\n",
       "      <td>7.259647</td>\n",
       "    </tr>\n",
       "    <tr>\n",
       "      <th>получение образования</th>\n",
       "      <td>3970</td>\n",
       "      <td>369</td>\n",
       "      <td>9.294710</td>\n",
       "    </tr>\n",
       "    <tr>\n",
       "      <th>проведение свадьбы</th>\n",
       "      <td>2299</td>\n",
       "      <td>181</td>\n",
       "      <td>7.872988</td>\n",
       "    </tr>\n",
       "  </tbody>\n",
       "</table>\n",
       "</div>"
      ],
      "text/plain": [
       "                          count  sum  debt_percent\n",
       "purpose_category                                  \n",
       "операции с автомобилем     4258  397      9.323626\n",
       "операции с недвижимостью  10703  777      7.259647\n",
       "получение образования      3970  369      9.294710\n",
       "проведение свадьбы         2299  181      7.872988"
      ]
     },
     "execution_count": 52,
     "metadata": {},
     "output_type": "execute_result"
    }
   ],
   "source": [
    "# Создадим сгруппированную таблицу\n",
    "purpose_group = df.groupby('purpose_category')['debt'].agg(['count', 'sum'])\n",
    "\n",
    "# Добавим подсчет процента просроченных кредитов\n",
    "purpose_group['debt_percent'] = purpose_group['sum']/purpose_group['count']*100\n",
    "purpose_group"
   ]
  },
  {
   "cell_type": "markdown",
   "id": "c35bb029",
   "metadata": {},
   "source": [
    "Наименее рискованные цели оказались связаны с операциями с недвижимостью и проведением свядьбы. Цели, связанные с автомобилями и получением образования оказались одинаково более рискованные."
   ]
  },
  {
   "cell_type": "markdown",
   "id": "153124d0",
   "metadata": {},
   "source": [
    "Проверим, сохраняется ли такая закономерность при дополнительной группировке по полу."
   ]
  },
  {
   "cell_type": "code",
   "execution_count": 53,
   "id": "485e662f",
   "metadata": {
    "scrolled": true
   },
   "outputs": [
    {
     "data": {
      "text/html": [
       "<div>\n",
       "<style scoped>\n",
       "    .dataframe tbody tr th:only-of-type {\n",
       "        vertical-align: middle;\n",
       "    }\n",
       "\n",
       "    .dataframe tbody tr th {\n",
       "        vertical-align: top;\n",
       "    }\n",
       "\n",
       "    .dataframe thead tr th {\n",
       "        text-align: left;\n",
       "    }\n",
       "\n",
       "    .dataframe thead tr:last-of-type th {\n",
       "        text-align: right;\n",
       "    }\n",
       "</style>\n",
       "<table border=\"1\" class=\"dataframe\">\n",
       "  <thead>\n",
       "    <tr>\n",
       "      <th></th>\n",
       "      <th></th>\n",
       "      <th>count</th>\n",
       "      <th>sum</th>\n",
       "      <th>debt_percent</th>\n",
       "    </tr>\n",
       "    <tr>\n",
       "      <th></th>\n",
       "      <th></th>\n",
       "      <th>debt</th>\n",
       "      <th>debt</th>\n",
       "      <th></th>\n",
       "    </tr>\n",
       "    <tr>\n",
       "      <th>gender</th>\n",
       "      <th>purpose_category</th>\n",
       "      <th></th>\n",
       "      <th></th>\n",
       "      <th></th>\n",
       "    </tr>\n",
       "  </thead>\n",
       "  <tbody>\n",
       "    <tr>\n",
       "      <th rowspan=\"4\" valign=\"top\">F</th>\n",
       "      <th>операции с автомобилем</th>\n",
       "      <td>2826</td>\n",
       "      <td>229</td>\n",
       "      <td>8.103326</td>\n",
       "    </tr>\n",
       "    <tr>\n",
       "      <th>операции с недвижимостью</th>\n",
       "      <td>7017</td>\n",
       "      <td>443</td>\n",
       "      <td>6.313239</td>\n",
       "    </tr>\n",
       "    <tr>\n",
       "      <th>получение образования</th>\n",
       "      <td>2634</td>\n",
       "      <td>206</td>\n",
       "      <td>7.820805</td>\n",
       "    </tr>\n",
       "    <tr>\n",
       "      <th>проведение свадьбы</th>\n",
       "      <td>1544</td>\n",
       "      <td>106</td>\n",
       "      <td>6.865285</td>\n",
       "    </tr>\n",
       "    <tr>\n",
       "      <th rowspan=\"4\" valign=\"top\">M</th>\n",
       "      <th>операции с автомобилем</th>\n",
       "      <td>1432</td>\n",
       "      <td>168</td>\n",
       "      <td>11.731844</td>\n",
       "    </tr>\n",
       "    <tr>\n",
       "      <th>операции с недвижимостью</th>\n",
       "      <td>3686</td>\n",
       "      <td>334</td>\n",
       "      <td>9.061313</td>\n",
       "    </tr>\n",
       "    <tr>\n",
       "      <th>получение образования</th>\n",
       "      <td>1336</td>\n",
       "      <td>163</td>\n",
       "      <td>12.200599</td>\n",
       "    </tr>\n",
       "    <tr>\n",
       "      <th>проведение свадьбы</th>\n",
       "      <td>755</td>\n",
       "      <td>75</td>\n",
       "      <td>9.933775</td>\n",
       "    </tr>\n",
       "  </tbody>\n",
       "</table>\n",
       "</div>"
      ],
      "text/plain": [
       "                                count  sum debt_percent\n",
       "                                 debt debt             \n",
       "gender purpose_category                                \n",
       "F      операции с автомобилем    2826  229     8.103326\n",
       "       операции с недвижимостью  7017  443     6.313239\n",
       "       получение образования     2634  206     7.820805\n",
       "       проведение свадьбы        1544  106     6.865285\n",
       "M      операции с автомобилем    1432  168    11.731844\n",
       "       операции с недвижимостью  3686  334     9.061313\n",
       "       получение образования     1336  163    12.200599\n",
       "       проведение свадьбы         755   75     9.933775"
      ]
     },
     "execution_count": 53,
     "metadata": {},
     "output_type": "execute_result"
    }
   ],
   "source": [
    "# Создадим сводную таблицу по полу и количеству детей\n",
    "purpose_pivot = df.pivot_table(index=['gender', 'purpose_category'], values='debt', aggfunc=['count', 'sum'])\n",
    "\n",
    "# Удалим мультииндекс\n",
    "# purpose_pivot = purpose_pivot.reset_index()\n",
    "\n",
    "# Добавим рассчет процента невозвратов кредита\n",
    "purpose_pivot['debt_percent'] = purpose_pivot['sum']/purpose_pivot['count']*100\n",
    "purpose_pivot\n"
   ]
  },
  {
   "cell_type": "markdown",
   "id": "3d6f7f78",
   "metadata": {},
   "source": [
    "Выявленная закономерность сохраняется полностью. И опять видно, что частота задолжности у мужчин заметно выше, чем у женщин."
   ]
  },
  {
   "cell_type": "markdown",
   "id": "f2dbf9e3",
   "metadata": {},
   "source": [
    "### Вывод по шагу 3."
   ]
  },
  {
   "cell_type": "markdown",
   "id": "7cde57d9",
   "metadata": {},
   "source": [
    "**0. Влияние пола:**\n",
    "*Мужчины немного чаще женщин имеют задолжность по кредииту*\n",
    "\n",
    "**1. Влияние количества детей:**\n",
    "\n",
    "* Отсутствие детей уменьшает вероятность задолжности.\n",
    "\n",
    "*Но:*\n",
    "* Бездетные мужчины имеют задолжность также часто, как и женщины с детьми.\n",
    "* Есть гипотеза, что мужчины с большим количеством детей реже имеют задолжность, чем мужчины с одним ребенком или без детей. - данную гипотезу необходимо проверить на дополнительном материале.\n",
    "\n",
    "**2. Влияние семейного положения:**\n",
    "\n",
    "* Семейное положение влияет на надежность заемщика, но его влияние связано с другими факторами* \n",
    "\n",
    "* Самые надежные вкладчики - вдовые женщины. Возможно, ключевым является возраст, а не семейное положение.\n",
    "* Наименее надежные вкладчики - неженатые мужчины, что также может определяться их молодым возрастом\n",
    "* Мужчины и женщины, живущие гражданским браком также отличаются меньшей надежностью по сравнению с остальными группами. \n",
    "\n",
    "**3. Влияние среднего дохода:**\n",
    "\n",
    "* Вероятность невозврата достигает своего максимума при средних значениях зарплат - в интервале `105 001–145 000`.\n",
    "* Наиболее богатые и самые бедные реже задерживают выплаты.\n",
    "\n",
    "**4. Влияние цели кредита:**\n",
    "\n",
    "* Наименее рискованные цели оказались связаны с операциями с недвижимостью и проведением свядьбы.\n",
    "* Цели, связанные с автомобилями и получением образования оказались одинаково более рискованные.\n",
    "* При разделении по полу найденные закономерности сохраняются."
   ]
  },
  {
   "cell_type": "markdown",
   "id": "fb7859dc",
   "metadata": {},
   "source": [
    "## Выводы исследования"
   ]
  },
  {
   "cell_type": "markdown",
   "id": "afe43ca2",
   "metadata": {},
   "source": [
    "### Для изучения данных была проведена первичная обработка, исключающая возможность ошибки при анализе.\n",
    "\n",
    "### Была проведена группировка качественных и количественных данных\n",
    "\n",
    "### По поставленным вопросам были сделаны следующие выводы:\n",
    "\n"
   ]
  },
  {
   "cell_type": "markdown",
   "id": "b44e9799",
   "metadata": {},
   "source": [
    "- Влияние количества детей: отсутствие детей уменьшает вероятность задолжности. <br>\n",
    "<br>\n",
    "- Влияние семейного положения: семейное положение влияет на надежность заемщика, но его влияние связано с другими социальными факторами. <br>\n",
    "<br>\n",
    "- Влияние среднего дохода: вероятность задолжности достигает своего максимума при средних значениях зарплат, наиболее богатые и самые бедные реже задерживают выплаты. <br>\n",
    "<br>\n",
    "- Влияние цели кредита: цель кредита влияет на надежность заемщиков: наименее рискованные цели оказались связаны с операциями с недвижимостью и проведением свядьбы, цели, связанные с автомобилями и получением образования оказались одинаково более рискованные."
   ]
  },
  {
   "cell_type": "markdown",
   "id": "70a20026",
   "metadata": {},
   "source": [
    "### Дополнительные воводы:"
   ]
  },
  {
   "cell_type": "markdown",
   "id": "4154b4b3",
   "metadata": {},
   "source": [
    "**Влияние других факторов:**\n",
    "\n",
    "* Пол оказывает существенное влияние на надежность клиентов - мужчины чаще женщин задерживают выплаты. Эта закономерность сохраняется при изучении влияния других факторов.\n",
    "\n",
    "* Возраст также влияет на надежность - более молодые чаще задерживают выплаты, пожилые оказываются более надежные. Вероятно, что с этим связаны различия в надежности клиентов с разным семейным положением.\n",
    "\n",
    "**Дополнительная гипотеза:**\n",
    "\n",
    "Мужчины с большим количеством детей реже имеют задолжность, чем мужчины с одним ребенком или без детей."
   ]
  }
 ],
 "metadata": {
  "kernelspec": {
   "display_name": "Python 3 (ipykernel)",
   "language": "python",
   "name": "python3"
  },
  "language_info": {
   "codemirror_mode": {
    "name": "ipython",
    "version": 3
   },
   "file_extension": ".py",
   "mimetype": "text/x-python",
   "name": "python",
   "nbconvert_exporter": "python",
   "pygments_lexer": "ipython3",
   "version": "3.9.7"
  },
  "toc": {
   "base_numbering": 1,
   "nav_menu": {},
   "number_sections": true,
   "sideBar": true,
   "skip_h1_title": true,
   "title_cell": "Table of Contents",
   "title_sidebar": "Contents",
   "toc_cell": true,
   "toc_position": {
    "height": "calc(100% - 180px)",
    "left": "10px",
    "top": "150px",
    "width": "303.825px"
   },
   "toc_section_display": true,
   "toc_window_display": true
  }
 },
 "nbformat": 4,
 "nbformat_minor": 5
}
